{
 "cells": [
  {
   "cell_type": "code",
   "execution_count": 1,
   "metadata": {},
   "outputs": [],
   "source": [
    "## for data handling \n",
    "import pandas as pd\n",
    "import numpy as np\n",
    "\n",
    "## for plotting\n",
    "import matplotlib.pyplot as plt\n",
    "import seaborn as sns\n",
    "\n",
    "sns.set_style(\"white\")"
   ]
  },
  {
   "cell_type": "code",
   "execution_count": 4,
   "metadata": {},
   "outputs": [],
   "source": [
    "tappy_df=pd.read_csv('Imputed_ALLdata_Ivan.csv') "
   ]
  },
  {
   "cell_type": "code",
   "execution_count": 5,
   "metadata": {},
   "outputs": [
    {
     "data": {
      "text/plain": [
       "['LLHold',\n",
       " 'LLLatency',\n",
       " 'LRHold',\n",
       " 'LRLatency',\n",
       " 'LSHold',\n",
       " 'LSLatency',\n",
       " 'RLHold',\n",
       " 'RLLatency',\n",
       " 'RRHold',\n",
       " 'RRLatency',\n",
       " 'RSHold',\n",
       " 'RSLatency',\n",
       " 'SLHold',\n",
       " 'SLLatency',\n",
       " 'SRHold',\n",
       " 'SRLatency',\n",
       " 'SSHold',\n",
       " 'SSLatency',\n",
       " 'LLHoldStd',\n",
       " 'LLLatencyStd',\n",
       " 'LRHoldStd',\n",
       " 'LRLatencyStd',\n",
       " 'LSHoldStd',\n",
       " 'LSLatencyStd',\n",
       " 'RLHoldStd',\n",
       " 'RLLatencyStd',\n",
       " 'RRHoldStd',\n",
       " 'RRLatencyStd',\n",
       " 'RSHoldStd',\n",
       " 'RSLatencyStd',\n",
       " 'SLHoldStd',\n",
       " 'SLLatencyStd',\n",
       " 'SRHoldStd',\n",
       " 'SRLatencyStd',\n",
       " 'SSHoldStd',\n",
       " 'SSLatencyStd',\n",
       " 'LLHoldSkew',\n",
       " 'LLLatencySkew',\n",
       " 'LRHoldSkew',\n",
       " 'LRLatencySkew',\n",
       " 'LSHoldSkew',\n",
       " 'LSLatencySkew',\n",
       " 'RLHoldSkew',\n",
       " 'RLLatencySkew',\n",
       " 'RRHoldSkew',\n",
       " 'RRLatencySkew',\n",
       " 'RSHoldSkew',\n",
       " 'RSLatencySkew',\n",
       " 'SLHoldSkew',\n",
       " 'SLLatencySkew',\n",
       " 'SRHoldSkew',\n",
       " 'SRLatencySkew',\n",
       " 'SSHoldSkew',\n",
       " 'SSLatencySkew',\n",
       " 'LLHoldKurt',\n",
       " 'LLLatencyKurt',\n",
       " 'LRHoldKurt',\n",
       " 'LRLatencyKurt',\n",
       " 'LSHoldKurt',\n",
       " 'LSLatencyKurt',\n",
       " 'RLHoldKurt',\n",
       " 'RLLatencyKurt',\n",
       " 'RRHoldKurt',\n",
       " 'RRLatencyKurt',\n",
       " 'RSHoldKurt',\n",
       " 'RSLatencyKurt',\n",
       " 'SLHoldKurt',\n",
       " 'SLLatencyKurt',\n",
       " 'SRHoldKurt',\n",
       " 'SRLatencyKurt',\n",
       " 'SSHoldKurt',\n",
       " 'SSLatencyKurt',\n",
       " 'LHold',\n",
       " 'LLatency',\n",
       " 'RHold',\n",
       " 'RLatency',\n",
       " 'SHold',\n",
       " 'SLatency',\n",
       " 'LHoldStd',\n",
       " 'LLatencyStd',\n",
       " 'RHoldStd',\n",
       " 'RLatencyStd',\n",
       " 'SHoldStd',\n",
       " 'SLatencyStd',\n",
       " 'LHoldSkew',\n",
       " 'LLatencySkew',\n",
       " 'RHoldSkew',\n",
       " 'RLatencySkew',\n",
       " 'SHoldSkew',\n",
       " 'SLatencySkew',\n",
       " 'LHoldKurt',\n",
       " 'LLatencyKurt',\n",
       " 'RHoldKurt',\n",
       " 'RLatencyKurt',\n",
       " 'SHoldKurt',\n",
       " 'SLatencyKurt',\n",
       " 'LRHold_Diff',\n",
       " 'LLRRLatency_Diff',\n",
       " 'LRRLLatency_Diff',\n",
       " 'HoldMean',\n",
       " 'LatencyMean',\n",
       " 'Parkinsons']"
      ]
     },
     "execution_count": 5,
     "metadata": {},
     "output_type": "execute_result"
    }
   ],
   "source": [
    "list(tappy_df.columns)"
   ]
  },
  {
   "cell_type": "code",
   "execution_count": 6,
   "metadata": {},
   "outputs": [
    {
     "data": {
      "image/png": "[encoded data removed]",
      "text/plain": [
       "<Figure size 526x468 with 1 Axes>"
      ]
     },
     "metadata": {},
     "output_type": "display_data"
    }
   ],
   "source": [
    "sns.lmplot(data = tappy_df, x = 'LHold', \n",
    "            y = 'LLatency',hue='Parkinsons',fit_reg=False,\n",
    "            height = 6.5,legend=True)\n",
    "\n",
    "#plt.legend(title='Parkinsons', loc='upper left', \n",
    "#          labels=['no', 'yes'], \n",
    "#           fontsize = 12)\n",
    "plt.xlabel(\"LHold\",fontsize = 16)\n",
    "plt.ylabel(\"LLatency\",fontsize = 16)\n",
    "\n",
    "plt.show()"
   ]
  },
  {
   "cell_type": "code",
   "execution_count": 11,
   "metadata": {},
   "outputs": [],
   "source": [
    "X = tappy_df.loc[:,'LLHold':'SLatencyKurt'].to_numpy()\n",
    "y = tappy_df[['Parkinsons']].to_numpy()"
   ]
  },
  {
   "cell_type": "code",
   "execution_count": 13,
   "metadata": {},
   "outputs": [],
   "source": [
    "from sklearn.model_selection import train_test_split"
   ]
  },
  {
   "cell_type": "code",
   "execution_count": 14,
   "metadata": {},
   "outputs": [],
   "source": [
    "X_train, X_test, y_train, y_test = train_test_split(X, y, \n",
    "                                                    test_size=0.25,\n",
    "                                                    random_state = 440, \n",
    "                                                    shuffle=True,\n",
    "                                                    stratify=y)"
   ]
  },
  {
   "cell_type": "code",
   "execution_count": 15,
   "metadata": {},
   "outputs": [],
   "source": [
    "from sklearn.neighbors import KNeighborsClassifier"
   ]
  },
  {
   "cell_type": "code",
   "execution_count": 16,
   "metadata": {},
   "outputs": [],
   "source": [
    "def get_acc(model,X,y):\n",
    "    pred = model.predict(X)\n",
    "    return np.sum(pred == y)/len(y)"
   ]
  },
  {
   "cell_type": "code",
   "execution_count": 17,
   "metadata": {},
   "outputs": [],
   "source": [
    "from sklearn.model_selection import StratifiedKFold"
   ]
  },
  {
   "cell_type": "code",
   "execution_count": 18,
   "metadata": {},
   "outputs": [],
   "source": [
    "kfold = StratifiedKFold(5,shuffle = True,random_state = 440)"
   ]
  },
  {
   "cell_type": "code",
   "execution_count": 19,
   "metadata": {},
   "outputs": [],
   "source": [
    "#CV\n",
    "max_neighbors = 30\n",
    "\n",
    "accs = np.zeros((5,max_neighbors))\n",
    "\n",
    "## keep track of the train test split\n",
    "j = 0\n",
    "\n",
    "\n",
    "for train_index, test_index in kfold.split(X_train,y_train):\n",
    "    # Get the cv train test split\n",
    "    X_train_train, X_train_test = X_train[train_index], X_train[test_index]\n",
    "    y_train_train, y_train_test = y_train[train_index], y_train[test_index]\n",
    "    for i in range(1,max_neighbors+1):\n",
    "        knn = KNeighborsClassifier(i)\n",
    "        \n",
    "        # fit the model\n",
    "        knn.fit(X_train_train, y_train_train.ravel())\n",
    "        \n",
    "        accs[j,i-1] = get_acc(knn, X_train_test, y_train_test.ravel())\n",
    "        \n",
    "    j=j+1"
   ]
  },
  {
   "cell_type": "code",
   "execution_count": 20,
   "metadata": {},
   "outputs": [
    {
     "data": {
      "image/png": "[encoded data removed]",
      "text/plain": [
       "<Figure size 1008x576 with 1 Axes>"
      ]
     },
     "metadata": {},
     "output_type": "display_data"
    }
   ],
   "source": [
    "# Plot how the accuracy changes\n",
    "sns.set_style(\"whitegrid\")\n",
    "\n",
    "plt.figure(figsize=(14,8))\n",
    "\n",
    "plt.plot(range(1,max_neighbors+1), 100*np.mean(accs, axis=0))\n",
    "\n",
    "plt.xlabel(\"Number of Neighbors\", fontsize=16)\n",
    "plt.ylabel(\"Average CV Accuracy (%)\", fontsize=16)\n",
    "\n",
    "plt.show()"
   ]
  },
  {
   "cell_type": "code",
   "execution_count": 22,
   "metadata": {},
   "outputs": [
    {
     "data": {
      "text/plain": [
       "0.75"
      ]
     },
     "execution_count": 22,
     "metadata": {},
     "output_type": "execute_result"
    }
   ],
   "source": [
    "knn = KNeighborsClassifier(n_neighbors = 13)\n",
    "\n",
    "knn.fit(X_train,y_train.ravel())\n",
    "\n",
    "get_acc(knn,X_test,y_test.ravel())"
   ]
  },
  {
   "cell_type": "code",
   "execution_count": null,
   "metadata": {},
   "outputs": [],
   "source": []
  }
 ],
 "metadata": {
  "kernelspec": {
   "display_name": "Python 3",
   "language": "python",
   "name": "python3"
  },
  "language_info": {
   "codemirror_mode": {
    "name": "ipython",
    "version": 3
   },
   "file_extension": ".py",
   "mimetype": "text/x-python",
   "name": "python",
   "nbconvert_exporter": "python",
   "pygments_lexer": "ipython3",
   "version": "3.8.5"
  }
 },
 "nbformat": 4,
 "nbformat_minor": 4
}
