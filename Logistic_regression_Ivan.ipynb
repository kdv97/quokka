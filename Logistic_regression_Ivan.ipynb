{
 "cells": [
  {
   "cell_type": "code",
   "execution_count": 1,
   "metadata": {},
   "outputs": [],
   "source": [
    "## For data handling\n",
    "import pandas as pd\n",
    "import numpy as np\n",
    "\n",
    "## For plotting\n",
    "import matplotlib.pyplot as plt\n",
    "import seaborn as sns\n",
    "\n",
    "## This sets the plot style\n",
    "## to have a grid on a white background\n",
    "sns.set_style(\"whitegrid\")"
   ]
  },
  {
   "cell_type": "code",
   "execution_count": 2,
   "metadata": {},
   "outputs": [
    {
     "data": {
      "text/html": [
       "<div>\n",
       "<style scoped>\n",
       "    .dataframe tbody tr th:only-of-type {\n",
       "        vertical-align: middle;\n",
       "    }\n",
       "\n",
       "    .dataframe tbody tr th {\n",
       "        vertical-align: top;\n",
       "    }\n",
       "\n",
       "    .dataframe thead th {\n",
       "        text-align: right;\n",
       "    }\n",
       "</style>\n",
       "<table border=\"1\" class=\"dataframe\">\n",
       "  <thead>\n",
       "    <tr style=\"text-align: right;\">\n",
       "      <th></th>\n",
       "      <th>LLHold</th>\n",
       "      <th>LLLatency</th>\n",
       "      <th>LRHold</th>\n",
       "      <th>LRLatency</th>\n",
       "      <th>RLHold</th>\n",
       "      <th>RLLatency</th>\n",
       "      <th>RRHold</th>\n",
       "      <th>RRLatency</th>\n",
       "      <th>LLHoldStd</th>\n",
       "      <th>LLLatencyStd</th>\n",
       "      <th>...</th>\n",
       "      <th>RHoldSkew</th>\n",
       "      <th>RLatencySkew</th>\n",
       "      <th>LHoldKurt</th>\n",
       "      <th>LLatencyKurt</th>\n",
       "      <th>RHoldKurt</th>\n",
       "      <th>RLatencyKurt</th>\n",
       "      <th>LRHold_Diff</th>\n",
       "      <th>LLRRLatency_Diff</th>\n",
       "      <th>LRRLLatency_Diff</th>\n",
       "      <th>Parkinsons</th>\n",
       "    </tr>\n",
       "  </thead>\n",
       "  <tbody>\n",
       "    <tr>\n",
       "      <th>0</th>\n",
       "      <td>97.654140</td>\n",
       "      <td>406.716242</td>\n",
       "      <td>107.138017</td>\n",
       "      <td>411.718182</td>\n",
       "      <td>100.917949</td>\n",
       "      <td>430.258974</td>\n",
       "      <td>96.400784</td>\n",
       "      <td>365.736471</td>\n",
       "      <td>25.840600</td>\n",
       "      <td>162.606085</td>\n",
       "      <td>...</td>\n",
       "      <td>7.402816</td>\n",
       "      <td>0.446804</td>\n",
       "      <td>0.805770</td>\n",
       "      <td>-0.699806</td>\n",
       "      <td>106.075763</td>\n",
       "      <td>-0.725689</td>\n",
       "      <td>-2.581164</td>\n",
       "      <td>40.979771</td>\n",
       "      <td>-18.540793</td>\n",
       "      <td>0</td>\n",
       "    </tr>\n",
       "    <tr>\n",
       "      <th>1</th>\n",
       "      <td>64.452941</td>\n",
       "      <td>390.058823</td>\n",
       "      <td>66.233333</td>\n",
       "      <td>600.433333</td>\n",
       "      <td>68.500000</td>\n",
       "      <td>536.407143</td>\n",
       "      <td>64.341176</td>\n",
       "      <td>394.647059</td>\n",
       "      <td>10.799197</td>\n",
       "      <td>199.162594</td>\n",
       "      <td>...</td>\n",
       "      <td>0.239309</td>\n",
       "      <td>-0.208674</td>\n",
       "      <td>-0.233988</td>\n",
       "      <td>-0.775209</td>\n",
       "      <td>-0.109231</td>\n",
       "      <td>-1.327965</td>\n",
       "      <td>1.156507</td>\n",
       "      <td>-4.588235</td>\n",
       "      <td>64.026190</td>\n",
       "      <td>0</td>\n",
       "    </tr>\n",
       "    <tr>\n",
       "      <th>2</th>\n",
       "      <td>143.399528</td>\n",
       "      <td>347.882547</td>\n",
       "      <td>105.325886</td>\n",
       "      <td>313.541489</td>\n",
       "      <td>163.700000</td>\n",
       "      <td>310.799454</td>\n",
       "      <td>106.208750</td>\n",
       "      <td>322.170833</td>\n",
       "      <td>51.115372</td>\n",
       "      <td>101.977747</td>\n",
       "      <td>...</td>\n",
       "      <td>2.804074</td>\n",
       "      <td>-0.115531</td>\n",
       "      <td>0.797792</td>\n",
       "      <td>0.285031</td>\n",
       "      <td>23.790534</td>\n",
       "      <td>-0.215556</td>\n",
       "      <td>47.072756</td>\n",
       "      <td>25.711714</td>\n",
       "      <td>2.742036</td>\n",
       "      <td>0</td>\n",
       "    </tr>\n",
       "    <tr>\n",
       "      <th>3</th>\n",
       "      <td>144.314980</td>\n",
       "      <td>528.670445</td>\n",
       "      <td>180.632743</td>\n",
       "      <td>575.478761</td>\n",
       "      <td>156.391710</td>\n",
       "      <td>501.274093</td>\n",
       "      <td>159.277778</td>\n",
       "      <td>493.779630</td>\n",
       "      <td>42.482348</td>\n",
       "      <td>137.542548</td>\n",
       "      <td>...</td>\n",
       "      <td>0.264594</td>\n",
       "      <td>-0.364617</td>\n",
       "      <td>0.595533</td>\n",
       "      <td>-0.409263</td>\n",
       "      <td>0.520341</td>\n",
       "      <td>-0.042387</td>\n",
       "      <td>-18.904747</td>\n",
       "      <td>34.890816</td>\n",
       "      <td>74.204668</td>\n",
       "      <td>0</td>\n",
       "    </tr>\n",
       "    <tr>\n",
       "      <th>4</th>\n",
       "      <td>124.285207</td>\n",
       "      <td>300.323155</td>\n",
       "      <td>127.421731</td>\n",
       "      <td>335.508287</td>\n",
       "      <td>125.795492</td>\n",
       "      <td>321.131506</td>\n",
       "      <td>124.941855</td>\n",
       "      <td>332.621036</td>\n",
       "      <td>21.626193</td>\n",
       "      <td>81.749015</td>\n",
       "      <td>...</td>\n",
       "      <td>0.353481</td>\n",
       "      <td>-0.024474</td>\n",
       "      <td>5.019808</td>\n",
       "      <td>-0.741563</td>\n",
       "      <td>5.034476</td>\n",
       "      <td>-0.901017</td>\n",
       "      <td>-1.202048</td>\n",
       "      <td>-32.297880</td>\n",
       "      <td>14.376781</td>\n",
       "      <td>1</td>\n",
       "    </tr>\n",
       "    <tr>\n",
       "      <th>...</th>\n",
       "      <td>...</td>\n",
       "      <td>...</td>\n",
       "      <td>...</td>\n",
       "      <td>...</td>\n",
       "      <td>...</td>\n",
       "      <td>...</td>\n",
       "      <td>...</td>\n",
       "      <td>...</td>\n",
       "      <td>...</td>\n",
       "      <td>...</td>\n",
       "      <td>...</td>\n",
       "      <td>...</td>\n",
       "      <td>...</td>\n",
       "      <td>...</td>\n",
       "      <td>...</td>\n",
       "      <td>...</td>\n",
       "      <td>...</td>\n",
       "      <td>...</td>\n",
       "      <td>...</td>\n",
       "      <td>...</td>\n",
       "      <td>...</td>\n",
       "    </tr>\n",
       "    <tr>\n",
       "      <th>81</th>\n",
       "      <td>74.382119</td>\n",
       "      <td>233.183499</td>\n",
       "      <td>71.242987</td>\n",
       "      <td>249.604979</td>\n",
       "      <td>76.069314</td>\n",
       "      <td>282.845343</td>\n",
       "      <td>75.168615</td>\n",
       "      <td>262.600722</td>\n",
       "      <td>15.847420</td>\n",
       "      <td>68.129255</td>\n",
       "      <td>...</td>\n",
       "      <td>8.103708</td>\n",
       "      <td>0.929794</td>\n",
       "      <td>11.708047</td>\n",
       "      <td>0.692850</td>\n",
       "      <td>103.310649</td>\n",
       "      <td>1.547799</td>\n",
       "      <td>1.842681</td>\n",
       "      <td>-29.417223</td>\n",
       "      <td>-33.240364</td>\n",
       "      <td>0</td>\n",
       "    </tr>\n",
       "    <tr>\n",
       "      <th>82</th>\n",
       "      <td>104.445555</td>\n",
       "      <td>284.901879</td>\n",
       "      <td>114.021725</td>\n",
       "      <td>215.023762</td>\n",
       "      <td>102.083155</td>\n",
       "      <td>255.127555</td>\n",
       "      <td>114.708130</td>\n",
       "      <td>271.448199</td>\n",
       "      <td>43.152219</td>\n",
       "      <td>144.554373</td>\n",
       "      <td>...</td>\n",
       "      <td>0.065245</td>\n",
       "      <td>1.584906</td>\n",
       "      <td>196.537883</td>\n",
       "      <td>1.271138</td>\n",
       "      <td>2.400487</td>\n",
       "      <td>3.098033</td>\n",
       "      <td>-10.969995</td>\n",
       "      <td>13.453680</td>\n",
       "      <td>-40.103793</td>\n",
       "      <td>0</td>\n",
       "    </tr>\n",
       "    <tr>\n",
       "      <th>83</th>\n",
       "      <td>103.366013</td>\n",
       "      <td>249.626144</td>\n",
       "      <td>141.265306</td>\n",
       "      <td>262.962245</td>\n",
       "      <td>104.287387</td>\n",
       "      <td>247.860360</td>\n",
       "      <td>147.900000</td>\n",
       "      <td>350.363077</td>\n",
       "      <td>24.085334</td>\n",
       "      <td>75.679672</td>\n",
       "      <td>...</td>\n",
       "      <td>-0.368180</td>\n",
       "      <td>-0.033922</td>\n",
       "      <td>5.034818</td>\n",
       "      <td>0.918322</td>\n",
       "      <td>2.103608</td>\n",
       "      <td>-1.017572</td>\n",
       "      <td>-40.157634</td>\n",
       "      <td>-100.736933</td>\n",
       "      <td>15.101885</td>\n",
       "      <td>1</td>\n",
       "    </tr>\n",
       "    <tr>\n",
       "      <th>84</th>\n",
       "      <td>147.086450</td>\n",
       "      <td>505.747519</td>\n",
       "      <td>147.248437</td>\n",
       "      <td>456.021354</td>\n",
       "      <td>146.607565</td>\n",
       "      <td>580.315603</td>\n",
       "      <td>136.493676</td>\n",
       "      <td>545.699209</td>\n",
       "      <td>32.984655</td>\n",
       "      <td>139.372280</td>\n",
       "      <td>...</td>\n",
       "      <td>2.553821</td>\n",
       "      <td>0.323904</td>\n",
       "      <td>1.404602</td>\n",
       "      <td>-0.693057</td>\n",
       "      <td>19.824505</td>\n",
       "      <td>-0.903855</td>\n",
       "      <td>3.895622</td>\n",
       "      <td>-39.951690</td>\n",
       "      <td>-124.294249</td>\n",
       "      <td>0</td>\n",
       "    </tr>\n",
       "    <tr>\n",
       "      <th>85</th>\n",
       "      <td>135.570366</td>\n",
       "      <td>240.875223</td>\n",
       "      <td>122.593289</td>\n",
       "      <td>259.178655</td>\n",
       "      <td>131.591242</td>\n",
       "      <td>197.612920</td>\n",
       "      <td>123.869853</td>\n",
       "      <td>275.028715</td>\n",
       "      <td>60.221555</td>\n",
       "      <td>108.920795</td>\n",
       "      <td>...</td>\n",
       "      <td>0.442624</td>\n",
       "      <td>1.254471</td>\n",
       "      <td>0.044316</td>\n",
       "      <td>4.902895</td>\n",
       "      <td>1.211062</td>\n",
       "      <td>1.217089</td>\n",
       "      <td>10.571395</td>\n",
       "      <td>-34.153491</td>\n",
       "      <td>61.565735</td>\n",
       "      <td>1</td>\n",
       "    </tr>\n",
       "  </tbody>\n",
       "</table>\n",
       "<p>86 rows × 52 columns</p>\n",
       "</div>"
      ],
      "text/plain": [
       "        LLHold   LLLatency      LRHold   LRLatency      RLHold   RLLatency  \\\n",
       "0    97.654140  406.716242  107.138017  411.718182  100.917949  430.258974   \n",
       "1    64.452941  390.058823   66.233333  600.433333   68.500000  536.407143   \n",
       "2   143.399528  347.882547  105.325886  313.541489  163.700000  310.799454   \n",
       "3   144.314980  528.670445  180.632743  575.478761  156.391710  501.274093   \n",
       "4   124.285207  300.323155  127.421731  335.508287  125.795492  321.131506   \n",
       "..         ...         ...         ...         ...         ...         ...   \n",
       "81   74.382119  233.183499   71.242987  249.604979   76.069314  282.845343   \n",
       "82  104.445555  284.901879  114.021725  215.023762  102.083155  255.127555   \n",
       "83  103.366013  249.626144  141.265306  262.962245  104.287387  247.860360   \n",
       "84  147.086450  505.747519  147.248437  456.021354  146.607565  580.315603   \n",
       "85  135.570366  240.875223  122.593289  259.178655  131.591242  197.612920   \n",
       "\n",
       "        RRHold   RRLatency  LLHoldStd  LLLatencyStd  ...  RHoldSkew  \\\n",
       "0    96.400784  365.736471  25.840600    162.606085  ...   7.402816   \n",
       "1    64.341176  394.647059  10.799197    199.162594  ...   0.239309   \n",
       "2   106.208750  322.170833  51.115372    101.977747  ...   2.804074   \n",
       "3   159.277778  493.779630  42.482348    137.542548  ...   0.264594   \n",
       "4   124.941855  332.621036  21.626193     81.749015  ...   0.353481   \n",
       "..         ...         ...        ...           ...  ...        ...   \n",
       "81   75.168615  262.600722  15.847420     68.129255  ...   8.103708   \n",
       "82  114.708130  271.448199  43.152219    144.554373  ...   0.065245   \n",
       "83  147.900000  350.363077  24.085334     75.679672  ...  -0.368180   \n",
       "84  136.493676  545.699209  32.984655    139.372280  ...   2.553821   \n",
       "85  123.869853  275.028715  60.221555    108.920795  ...   0.442624   \n",
       "\n",
       "    RLatencySkew   LHoldKurt  LLatencyKurt   RHoldKurt  RLatencyKurt  \\\n",
       "0       0.446804    0.805770     -0.699806  106.075763     -0.725689   \n",
       "1      -0.208674   -0.233988     -0.775209   -0.109231     -1.327965   \n",
       "2      -0.115531    0.797792      0.285031   23.790534     -0.215556   \n",
       "3      -0.364617    0.595533     -0.409263    0.520341     -0.042387   \n",
       "4      -0.024474    5.019808     -0.741563    5.034476     -0.901017   \n",
       "..           ...         ...           ...         ...           ...   \n",
       "81      0.929794   11.708047      0.692850  103.310649      1.547799   \n",
       "82      1.584906  196.537883      1.271138    2.400487      3.098033   \n",
       "83     -0.033922    5.034818      0.918322    2.103608     -1.017572   \n",
       "84      0.323904    1.404602     -0.693057   19.824505     -0.903855   \n",
       "85      1.254471    0.044316      4.902895    1.211062      1.217089   \n",
       "\n",
       "    LRHold_Diff  LLRRLatency_Diff  LRRLLatency_Diff  Parkinsons  \n",
       "0     -2.581164         40.979771        -18.540793           0  \n",
       "1      1.156507         -4.588235         64.026190           0  \n",
       "2     47.072756         25.711714          2.742036           0  \n",
       "3    -18.904747         34.890816         74.204668           0  \n",
       "4     -1.202048        -32.297880         14.376781           1  \n",
       "..          ...               ...               ...         ...  \n",
       "81     1.842681        -29.417223        -33.240364           0  \n",
       "82   -10.969995         13.453680        -40.103793           0  \n",
       "83   -40.157634       -100.736933         15.101885           1  \n",
       "84     3.895622        -39.951690       -124.294249           0  \n",
       "85    10.571395        -34.153491         61.565735           1  \n",
       "\n",
       "[86 rows x 52 columns]"
      ]
     },
     "execution_count": 2,
     "metadata": {},
     "output_type": "execute_result"
    }
   ],
   "source": [
    "df = pd.read_csv(\"Imputed_data_Ivan.csv\")\n",
    "df"
   ]
  },
  {
   "cell_type": "code",
   "execution_count": 4,
   "metadata": {},
   "outputs": [],
   "source": [
    "X = df.iloc[:,0:50]\n",
    "y = df.iloc[:,51]  # Target is the Parkinsons column"
   ]
  },
  {
   "cell_type": "code",
   "execution_count": 6,
   "metadata": {},
   "outputs": [],
   "source": [
    "from sklearn.model_selection import train_test_split"
   ]
  },
  {
   "cell_type": "code",
   "execution_count": 7,
   "metadata": {},
   "outputs": [],
   "source": [
    "## Now split the data\n",
    "## Have 20% for testing\n",
    "## Set 614 as the random state\n",
    "## and stratify the split\n",
    "\n",
    "## I'll wait before writing the code myself :)\n",
    "X_train,X_test,y_train,y_test = train_test_split(X,y,\n",
    "                                                test_size=.25,\n",
    "                                                shuffle=True,\n",
    "                                                random_state=614,\n",
    "                                                stratify=y)"
   ]
  },
  {
   "cell_type": "code",
   "execution_count": 14,
   "metadata": {},
   "outputs": [],
   "source": [
    "from sklearn.linear_model import LogisticRegression\n",
    "\n",
    "log_reg = LogisticRegression(max_iter=10000)"
   ]
  },
  {
   "cell_type": "code",
   "execution_count": 15,
   "metadata": {},
   "outputs": [
    {
     "data": {
      "text/plain": [
       "LogisticRegression(max_iter=10000)"
      ]
     },
     "execution_count": 15,
     "metadata": {},
     "output_type": "execute_result"
    }
   ],
   "source": [
    "log_reg.fit(X_train,y_train)"
   ]
  },
  {
   "cell_type": "code",
   "execution_count": 16,
   "metadata": {},
   "outputs": [],
   "source": [
    "y_train_pred = log_reg.predict(X_train)"
   ]
  },
  {
   "cell_type": "code",
   "execution_count": 17,
   "metadata": {},
   "outputs": [],
   "source": [
    "from sklearn.metrics import confusion_matrix"
   ]
  },
  {
   "cell_type": "code",
   "execution_count": 18,
   "metadata": {},
   "outputs": [
    {
     "data": {
      "text/plain": [
       "array([[38,  2],\n",
       "       [ 1, 23]], dtype=int64)"
      ]
     },
     "execution_count": 18,
     "metadata": {},
     "output_type": "execute_result"
    }
   ],
   "source": [
    "confusion_matrix(y_train, y_train_pred)"
   ]
  },
  {
   "cell_type": "code",
   "execution_count": 19,
   "metadata": {},
   "outputs": [
    {
     "name": "stdout",
     "output_type": "stream",
     "text": [
      "0.92\n",
      "0.9583333333333334\n"
     ]
    }
   ],
   "source": [
    "from sklearn.metrics import precision_score\n",
    "from sklearn.metrics import recall_score\n",
    "\n",
    "print(precision_score(y_train, y_train_pred))\n",
    "print(recall_score(y_train, y_train_pred))"
   ]
  },
  {
   "cell_type": "code",
   "execution_count": 20,
   "metadata": {},
   "outputs": [],
   "source": [
    "probs = log_reg.predict_proba(X_train)\n"
   ]
  },
  {
   "cell_type": "code",
   "execution_count": 21,
   "metadata": {},
   "outputs": [],
   "source": [
    "from sklearn.metrics import roc_curve"
   ]
  },
  {
   "cell_type": "code",
   "execution_count": 22,
   "metadata": {},
   "outputs": [
    {
     "data": {
      "text/plain": [
       "(array([0.   , 0.   , 0.   , 0.025, 0.025, 0.05 , 0.05 , 1.   ]),\n",
       " array([0.        , 0.04166667, 0.58333333, 0.58333333, 0.875     ,\n",
       "        0.875     , 1.        , 1.        ]),\n",
       " array([1.99999983, 0.99999983, 0.83587731, 0.81808327, 0.59752866,\n",
       "        0.57984051, 0.35455543, 0.        ]))"
      ]
     },
     "execution_count": 22,
     "metadata": {},
     "output_type": "execute_result"
    }
   ],
   "source": [
    "roc_curve(y_train,probs[:,1])"
   ]
  },
  {
   "cell_type": "code",
   "execution_count": 23,
   "metadata": {},
   "outputs": [],
   "source": [
    "fpr,tpr,cutoffs = roc_curve(y_train,probs[:,1])"
   ]
  },
  {
   "cell_type": "code",
   "execution_count": 24,
   "metadata": {},
   "outputs": [
    {
     "data": {
      "image/png": "[encoded data removed]",
      "text/plain": [
       "<Figure size 864x576 with 1 Axes>"
      ]
     },
     "metadata": {},
     "output_type": "display_data"
    }
   ],
   "source": [
    "## Code here\n",
    "\n",
    "## Sample Solution\n",
    "plt.figure(figsize=(12,8))\n",
    "\n",
    "plt.plot(fpr,tpr)\n",
    "\n",
    "plt.xlabel(\"False Positive Rate\",fontsize=16)\n",
    "plt.ylabel(\"True Positive Rate\",fontsize=16)\n",
    "\n",
    "plt.xticks(fontsize=12)\n",
    "plt.yticks(fontsize=12)\n",
    "\n",
    "plt.show()"
   ]
  },
  {
   "cell_type": "code",
   "execution_count": 25,
   "metadata": {},
   "outputs": [],
   "source": [
    "from sklearn.metrics import roc_auc_score"
   ]
  },
  {
   "cell_type": "code",
   "execution_count": 26,
   "metadata": {},
   "outputs": [
    {
     "data": {
      "text/plain": [
       "0.9864583333333333"
      ]
     },
     "execution_count": 26,
     "metadata": {},
     "output_type": "execute_result"
    }
   ],
   "source": [
    "roc_auc_score(y_train,probs[:,1])"
   ]
  },
  {
   "cell_type": "code",
   "execution_count": null,
   "metadata": {},
   "outputs": [],
   "source": []
  },
  {
   "cell_type": "code",
   "execution_count": null,
   "metadata": {},
   "outputs": [],
   "source": []
  }
 ],
 "metadata": {
  "kernelspec": {
   "display_name": "Python 3",
   "language": "python",
   "name": "python3"
  },
  "language_info": {
   "codemirror_mode": {
    "name": "ipython",
    "version": 3
   },
   "file_extension": ".py",
   "mimetype": "text/x-python",
   "name": "python",
   "nbconvert_exporter": "python",
   "pygments_lexer": "ipython3",
   "version": "3.8.5"
  }
 },
 "nbformat": 4,
 "nbformat_minor": 4
}
