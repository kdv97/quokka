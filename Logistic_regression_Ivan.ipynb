{
 "cells": [
  {
   "cell_type": "code",
   "execution_count": 1,
   "metadata": {},
   "outputs": [],
   "source": [
    "## For data handling\n",
    "import pandas as pd\n",
    "import numpy as np\n",
    "\n",
    "## For plotting\n",
    "import matplotlib.pyplot as plt\n",
    "import seaborn as sns\n",
    "\n",
    "## This sets the plot style\n",
    "## to have a grid on a white background\n",
    "sns.set_style(\"whitegrid\")"
   ]
  },
  {
   "cell_type": "code",
   "execution_count": 3,
   "metadata": {},
   "outputs": [
    {
     "data": {
      "text/html": [
       "<div>\n",
       "<style scoped>\n",
       "    .dataframe tbody tr th:only-of-type {\n",
       "        vertical-align: middle;\n",
       "    }\n",
       "\n",
       "    .dataframe tbody tr th {\n",
       "        vertical-align: top;\n",
       "    }\n",
       "\n",
       "    .dataframe thead th {\n",
       "        text-align: right;\n",
       "    }\n",
       "</style>\n",
       "<table border=\"1\" class=\"dataframe\">\n",
       "  <thead>\n",
       "    <tr style=\"text-align: right;\">\n",
       "      <th></th>\n",
       "      <th>LLHold</th>\n",
       "      <th>LLLatency</th>\n",
       "      <th>LRHold</th>\n",
       "      <th>LRLatency</th>\n",
       "      <th>RLHold</th>\n",
       "      <th>RLLatency</th>\n",
       "      <th>RRHold</th>\n",
       "      <th>RRLatency</th>\n",
       "      <th>LLHoldStd</th>\n",
       "      <th>LLLatencyStd</th>\n",
       "      <th>...</th>\n",
       "      <th>RHold</th>\n",
       "      <th>RLatency</th>\n",
       "      <th>LHoldStd</th>\n",
       "      <th>LLatencyStd</th>\n",
       "      <th>RHoldStd</th>\n",
       "      <th>RLatencyStd</th>\n",
       "      <th>LRHold_Diff</th>\n",
       "      <th>LLRRLatency_Diff</th>\n",
       "      <th>LRRLLatency_Diff</th>\n",
       "      <th>Parkinsons</th>\n",
       "    </tr>\n",
       "  </thead>\n",
       "  <tbody>\n",
       "    <tr>\n",
       "      <th>0</th>\n",
       "      <td>97.654140</td>\n",
       "      <td>406.716242</td>\n",
       "      <td>107.138017</td>\n",
       "      <td>411.718182</td>\n",
       "      <td>100.917949</td>\n",
       "      <td>430.258974</td>\n",
       "      <td>96.400784</td>\n",
       "      <td>365.736471</td>\n",
       "      <td>25.840600</td>\n",
       "      <td>162.606085</td>\n",
       "      <td>...</td>\n",
       "      <td>101.628974</td>\n",
       "      <td>388.125956</td>\n",
       "      <td>99.047810</td>\n",
       "      <td>416.769161</td>\n",
       "      <td>101.628974</td>\n",
       "      <td>388.125956</td>\n",
       "      <td>-317.721350</td>\n",
       "      <td>40.979771</td>\n",
       "      <td>-18.540793</td>\n",
       "      <td>0</td>\n",
       "    </tr>\n",
       "    <tr>\n",
       "      <th>1</th>\n",
       "      <td>64.452941</td>\n",
       "      <td>390.058823</td>\n",
       "      <td>66.233333</td>\n",
       "      <td>600.433333</td>\n",
       "      <td>68.500000</td>\n",
       "      <td>536.407143</td>\n",
       "      <td>64.341176</td>\n",
       "      <td>394.647059</td>\n",
       "      <td>10.799197</td>\n",
       "      <td>199.162594</td>\n",
       "      <td>...</td>\n",
       "      <td>65.124138</td>\n",
       "      <td>479.800000</td>\n",
       "      <td>66.280645</td>\n",
       "      <td>456.151613</td>\n",
       "      <td>65.124138</td>\n",
       "      <td>479.800000</td>\n",
       "      <td>-389.870968</td>\n",
       "      <td>-4.588235</td>\n",
       "      <td>64.026190</td>\n",
       "      <td>0</td>\n",
       "    </tr>\n",
       "    <tr>\n",
       "      <th>2</th>\n",
       "      <td>143.399528</td>\n",
       "      <td>347.882547</td>\n",
       "      <td>105.325886</td>\n",
       "      <td>313.541489</td>\n",
       "      <td>163.700000</td>\n",
       "      <td>310.799454</td>\n",
       "      <td>106.208750</td>\n",
       "      <td>322.170833</td>\n",
       "      <td>51.115372</td>\n",
       "      <td>101.977747</td>\n",
       "      <td>...</td>\n",
       "      <td>105.731801</td>\n",
       "      <td>317.509004</td>\n",
       "      <td>152.804557</td>\n",
       "      <td>330.702279</td>\n",
       "      <td>105.731801</td>\n",
       "      <td>317.509004</td>\n",
       "      <td>-177.897722</td>\n",
       "      <td>25.711714</td>\n",
       "      <td>2.742036</td>\n",
       "      <td>0</td>\n",
       "    </tr>\n",
       "    <tr>\n",
       "      <th>3</th>\n",
       "      <td>144.314980</td>\n",
       "      <td>528.670445</td>\n",
       "      <td>180.632743</td>\n",
       "      <td>575.478761</td>\n",
       "      <td>156.391710</td>\n",
       "      <td>501.274093</td>\n",
       "      <td>159.277778</td>\n",
       "      <td>493.779630</td>\n",
       "      <td>42.482348</td>\n",
       "      <td>137.542548</td>\n",
       "      <td>...</td>\n",
       "      <td>166.612462</td>\n",
       "      <td>521.840426</td>\n",
       "      <td>147.707715</td>\n",
       "      <td>520.973945</td>\n",
       "      <td>166.612462</td>\n",
       "      <td>521.840426</td>\n",
       "      <td>-373.266230</td>\n",
       "      <td>34.890816</td>\n",
       "      <td>74.204668</td>\n",
       "      <td>0</td>\n",
       "    </tr>\n",
       "    <tr>\n",
       "      <th>4</th>\n",
       "      <td>124.285207</td>\n",
       "      <td>300.323155</td>\n",
       "      <td>127.421731</td>\n",
       "      <td>335.508287</td>\n",
       "      <td>125.795492</td>\n",
       "      <td>321.131506</td>\n",
       "      <td>124.941855</td>\n",
       "      <td>332.621036</td>\n",
       "      <td>21.626193</td>\n",
       "      <td>81.749015</td>\n",
       "      <td>...</td>\n",
       "      <td>126.101694</td>\n",
       "      <td>333.971404</td>\n",
       "      <td>124.899646</td>\n",
       "      <td>308.788745</td>\n",
       "      <td>126.101694</td>\n",
       "      <td>333.971404</td>\n",
       "      <td>-183.889100</td>\n",
       "      <td>-32.297880</td>\n",
       "      <td>14.376781</td>\n",
       "      <td>1</td>\n",
       "    </tr>\n",
       "    <tr>\n",
       "      <th>...</th>\n",
       "      <td>...</td>\n",
       "      <td>...</td>\n",
       "      <td>...</td>\n",
       "      <td>...</td>\n",
       "      <td>...</td>\n",
       "      <td>...</td>\n",
       "      <td>...</td>\n",
       "      <td>...</td>\n",
       "      <td>...</td>\n",
       "      <td>...</td>\n",
       "      <td>...</td>\n",
       "      <td>...</td>\n",
       "      <td>...</td>\n",
       "      <td>...</td>\n",
       "      <td>...</td>\n",
       "      <td>...</td>\n",
       "      <td>...</td>\n",
       "      <td>...</td>\n",
       "      <td>...</td>\n",
       "      <td>...</td>\n",
       "      <td>...</td>\n",
       "    </tr>\n",
       "    <tr>\n",
       "      <th>82</th>\n",
       "      <td>74.382119</td>\n",
       "      <td>233.183499</td>\n",
       "      <td>71.242987</td>\n",
       "      <td>249.604979</td>\n",
       "      <td>76.069314</td>\n",
       "      <td>282.845343</td>\n",
       "      <td>75.168615</td>\n",
       "      <td>262.600722</td>\n",
       "      <td>15.847420</td>\n",
       "      <td>68.129255</td>\n",
       "      <td>...</td>\n",
       "      <td>73.270363</td>\n",
       "      <td>256.316582</td>\n",
       "      <td>75.113043</td>\n",
       "      <td>254.697936</td>\n",
       "      <td>73.270363</td>\n",
       "      <td>256.316582</td>\n",
       "      <td>-179.584892</td>\n",
       "      <td>-29.417223</td>\n",
       "      <td>-33.240364</td>\n",
       "      <td>0</td>\n",
       "    </tr>\n",
       "    <tr>\n",
       "      <th>83</th>\n",
       "      <td>104.445555</td>\n",
       "      <td>284.901879</td>\n",
       "      <td>114.021725</td>\n",
       "      <td>215.023762</td>\n",
       "      <td>102.083155</td>\n",
       "      <td>255.127555</td>\n",
       "      <td>114.708130</td>\n",
       "      <td>271.448199</td>\n",
       "      <td>43.152219</td>\n",
       "      <td>144.554373</td>\n",
       "      <td>...</td>\n",
       "      <td>114.322981</td>\n",
       "      <td>239.787821</td>\n",
       "      <td>103.352986</td>\n",
       "      <td>271.131772</td>\n",
       "      <td>114.322981</td>\n",
       "      <td>239.787821</td>\n",
       "      <td>-167.778787</td>\n",
       "      <td>13.453680</td>\n",
       "      <td>-40.103793</td>\n",
       "      <td>0</td>\n",
       "    </tr>\n",
       "    <tr>\n",
       "      <th>84</th>\n",
       "      <td>103.366013</td>\n",
       "      <td>249.626144</td>\n",
       "      <td>141.265306</td>\n",
       "      <td>262.962245</td>\n",
       "      <td>104.287387</td>\n",
       "      <td>247.860360</td>\n",
       "      <td>147.900000</td>\n",
       "      <td>350.363077</td>\n",
       "      <td>24.085334</td>\n",
       "      <td>75.679672</td>\n",
       "      <td>...</td>\n",
       "      <td>143.911043</td>\n",
       "      <td>297.815337</td>\n",
       "      <td>103.753409</td>\n",
       "      <td>248.883712</td>\n",
       "      <td>143.911043</td>\n",
       "      <td>297.815337</td>\n",
       "      <td>-145.130303</td>\n",
       "      <td>-100.736933</td>\n",
       "      <td>15.101885</td>\n",
       "      <td>1</td>\n",
       "    </tr>\n",
       "    <tr>\n",
       "      <th>85</th>\n",
       "      <td>147.086450</td>\n",
       "      <td>505.747519</td>\n",
       "      <td>147.248437</td>\n",
       "      <td>456.021354</td>\n",
       "      <td>146.607565</td>\n",
       "      <td>580.315603</td>\n",
       "      <td>136.493676</td>\n",
       "      <td>545.699209</td>\n",
       "      <td>32.984655</td>\n",
       "      <td>139.372280</td>\n",
       "      <td>...</td>\n",
       "      <td>142.976923</td>\n",
       "      <td>491.639089</td>\n",
       "      <td>146.872545</td>\n",
       "      <td>539.055121</td>\n",
       "      <td>142.976923</td>\n",
       "      <td>491.639089</td>\n",
       "      <td>-392.182577</td>\n",
       "      <td>-39.951690</td>\n",
       "      <td>-124.294249</td>\n",
       "      <td>0</td>\n",
       "    </tr>\n",
       "    <tr>\n",
       "      <th>86</th>\n",
       "      <td>135.570366</td>\n",
       "      <td>240.875223</td>\n",
       "      <td>122.593289</td>\n",
       "      <td>259.178655</td>\n",
       "      <td>131.591242</td>\n",
       "      <td>197.612920</td>\n",
       "      <td>123.869853</td>\n",
       "      <td>275.028715</td>\n",
       "      <td>60.221555</td>\n",
       "      <td>108.920795</td>\n",
       "      <td>...</td>\n",
       "      <td>123.141524</td>\n",
       "      <td>265.985638</td>\n",
       "      <td>133.712919</td>\n",
       "      <td>220.680472</td>\n",
       "      <td>123.141524</td>\n",
       "      <td>265.985638</td>\n",
       "      <td>-86.967553</td>\n",
       "      <td>-34.153491</td>\n",
       "      <td>61.565735</td>\n",
       "      <td>1</td>\n",
       "    </tr>\n",
       "  </tbody>\n",
       "</table>\n",
       "<p>87 rows × 28 columns</p>\n",
       "</div>"
      ],
      "text/plain": [
       "        LLHold   LLLatency      LRHold   LRLatency      RLHold   RLLatency  \\\n",
       "0    97.654140  406.716242  107.138017  411.718182  100.917949  430.258974   \n",
       "1    64.452941  390.058823   66.233333  600.433333   68.500000  536.407143   \n",
       "2   143.399528  347.882547  105.325886  313.541489  163.700000  310.799454   \n",
       "3   144.314980  528.670445  180.632743  575.478761  156.391710  501.274093   \n",
       "4   124.285207  300.323155  127.421731  335.508287  125.795492  321.131506   \n",
       "..         ...         ...         ...         ...         ...         ...   \n",
       "82   74.382119  233.183499   71.242987  249.604979   76.069314  282.845343   \n",
       "83  104.445555  284.901879  114.021725  215.023762  102.083155  255.127555   \n",
       "84  103.366013  249.626144  141.265306  262.962245  104.287387  247.860360   \n",
       "85  147.086450  505.747519  147.248437  456.021354  146.607565  580.315603   \n",
       "86  135.570366  240.875223  122.593289  259.178655  131.591242  197.612920   \n",
       "\n",
       "        RRHold   RRLatency  LLHoldStd  LLLatencyStd  ...       RHold  \\\n",
       "0    96.400784  365.736471  25.840600    162.606085  ...  101.628974   \n",
       "1    64.341176  394.647059  10.799197    199.162594  ...   65.124138   \n",
       "2   106.208750  322.170833  51.115372    101.977747  ...  105.731801   \n",
       "3   159.277778  493.779630  42.482348    137.542548  ...  166.612462   \n",
       "4   124.941855  332.621036  21.626193     81.749015  ...  126.101694   \n",
       "..         ...         ...        ...           ...  ...         ...   \n",
       "82   75.168615  262.600722  15.847420     68.129255  ...   73.270363   \n",
       "83  114.708130  271.448199  43.152219    144.554373  ...  114.322981   \n",
       "84  147.900000  350.363077  24.085334     75.679672  ...  143.911043   \n",
       "85  136.493676  545.699209  32.984655    139.372280  ...  142.976923   \n",
       "86  123.869853  275.028715  60.221555    108.920795  ...  123.141524   \n",
       "\n",
       "      RLatency    LHoldStd  LLatencyStd    RHoldStd  RLatencyStd  LRHold_Diff  \\\n",
       "0   388.125956   99.047810   416.769161  101.628974   388.125956  -317.721350   \n",
       "1   479.800000   66.280645   456.151613   65.124138   479.800000  -389.870968   \n",
       "2   317.509004  152.804557   330.702279  105.731801   317.509004  -177.897722   \n",
       "3   521.840426  147.707715   520.973945  166.612462   521.840426  -373.266230   \n",
       "4   333.971404  124.899646   308.788745  126.101694   333.971404  -183.889100   \n",
       "..         ...         ...          ...         ...          ...          ...   \n",
       "82  256.316582   75.113043   254.697936   73.270363   256.316582  -179.584892   \n",
       "83  239.787821  103.352986   271.131772  114.322981   239.787821  -167.778787   \n",
       "84  297.815337  103.753409   248.883712  143.911043   297.815337  -145.130303   \n",
       "85  491.639089  146.872545   539.055121  142.976923   491.639089  -392.182577   \n",
       "86  265.985638  133.712919   220.680472  123.141524   265.985638   -86.967553   \n",
       "\n",
       "    LLRRLatency_Diff  LRRLLatency_Diff  Parkinsons  \n",
       "0          40.979771        -18.540793           0  \n",
       "1          -4.588235         64.026190           0  \n",
       "2          25.711714          2.742036           0  \n",
       "3          34.890816         74.204668           0  \n",
       "4         -32.297880         14.376781           1  \n",
       "..               ...               ...         ...  \n",
       "82        -29.417223        -33.240364           0  \n",
       "83         13.453680        -40.103793           0  \n",
       "84       -100.736933         15.101885           1  \n",
       "85        -39.951690       -124.294249           0  \n",
       "86        -34.153491         61.565735           1  \n",
       "\n",
       "[87 rows x 28 columns]"
      ]
     },
     "execution_count": 3,
     "metadata": {},
     "output_type": "execute_result"
    }
   ],
   "source": [
    "df = pd.read_csv(\"Imputed_data_Ivan.csv\")\n",
    "df"
   ]
  },
  {
   "cell_type": "code",
   "execution_count": 12,
   "metadata": {},
   "outputs": [],
   "source": [
    "X = df.iloc[:,0:26]\n",
    "y = df.iloc[:,27]  # Target is the Parkinsons column"
   ]
  },
  {
   "cell_type": "code",
   "execution_count": 13,
   "metadata": {},
   "outputs": [],
   "source": [
    "from sklearn.model_selection import train_test_split"
   ]
  },
  {
   "cell_type": "code",
   "execution_count": 14,
   "metadata": {},
   "outputs": [],
   "source": [
    "## Now split the data\n",
    "## Have 20% for testing\n",
    "## Set 614 as the random state\n",
    "## and stratify the split\n",
    "\n",
    "## I'll wait before writing the code myself :)\n",
    "X_train,X_test,y_train,y_test = train_test_split(X,y,\n",
    "                                                test_size=.2,\n",
    "                                                shuffle=True,\n",
    "                                                random_state=614,\n",
    "                                                stratify=y)"
   ]
  },
  {
   "cell_type": "code",
   "execution_count": 26,
   "metadata": {},
   "outputs": [],
   "source": [
    "from sklearn.linear_model import LogisticRegression\n",
    "\n",
    "log_reg = LogisticRegression(max_iter=2000)"
   ]
  },
  {
   "cell_type": "code",
   "execution_count": 27,
   "metadata": {},
   "outputs": [
    {
     "data": {
      "text/plain": [
       "LogisticRegression(max_iter=2000)"
      ]
     },
     "execution_count": 27,
     "metadata": {},
     "output_type": "execute_result"
    }
   ],
   "source": [
    "log_reg.fit(X_train,y_train)"
   ]
  },
  {
   "cell_type": "code",
   "execution_count": 28,
   "metadata": {},
   "outputs": [],
   "source": [
    "y_train_pred = log_reg.predict(X_train)"
   ]
  },
  {
   "cell_type": "code",
   "execution_count": 29,
   "metadata": {},
   "outputs": [],
   "source": [
    "from sklearn.metrics import confusion_matrix"
   ]
  },
  {
   "cell_type": "code",
   "execution_count": 30,
   "metadata": {},
   "outputs": [
    {
     "data": {
      "text/plain": [
       "array([[38,  6],\n",
       "       [ 9, 16]], dtype=int64)"
      ]
     },
     "execution_count": 30,
     "metadata": {},
     "output_type": "execute_result"
    }
   ],
   "source": [
    "confusion_matrix(y_train, y_train_pred)"
   ]
  },
  {
   "cell_type": "code",
   "execution_count": 35,
   "metadata": {},
   "outputs": [
    {
     "name": "stdout",
     "output_type": "stream",
     "text": [
      "0.7272727272727273\n",
      "0.64\n"
     ]
    }
   ],
   "source": [
    "from sklearn.metrics import precision_score\n",
    "from sklearn.metrics import recall_score\n",
    "\n",
    "print(precision_score(y_train, y_train_pred))\n",
    "print(recall_score(y_train, y_train_pred))"
   ]
  },
  {
   "cell_type": "code",
   "execution_count": 38,
   "metadata": {},
   "outputs": [],
   "source": [
    "probs = log_reg.predict_proba(X_train)\n"
   ]
  },
  {
   "cell_type": "code",
   "execution_count": 39,
   "metadata": {},
   "outputs": [],
   "source": [
    "from sklearn.metrics import roc_curve"
   ]
  },
  {
   "cell_type": "code",
   "execution_count": 40,
   "metadata": {},
   "outputs": [
    {
     "data": {
      "text/plain": [
       "(array([0.        , 0.        , 0.        , 0.09090909, 0.09090909,\n",
       "        0.13636364, 0.13636364, 0.22727273, 0.22727273, 0.27272727,\n",
       "        0.27272727, 0.29545455, 0.29545455, 0.38636364, 0.38636364,\n",
       "        0.45454545, 0.45454545, 0.5       , 0.5       , 0.75      ,\n",
       "        0.75      , 0.79545455, 0.79545455, 1.        ]),\n",
       " array([0.  , 0.04, 0.56, 0.56, 0.64, 0.64, 0.68, 0.68, 0.72, 0.72, 0.76,\n",
       "        0.76, 0.8 , 0.8 , 0.84, 0.84, 0.88, 0.88, 0.92, 0.92, 0.96, 0.96,\n",
       "        1.  , 1.  ]),\n",
       " array([1.99883129e+00, 9.98831290e-01, 6.21838456e-01, 5.77088705e-01,\n",
       "        5.32573657e-01, 5.06138030e-01, 4.90681312e-01, 4.41684445e-01,\n",
       "        3.89435397e-01, 3.81738684e-01, 3.73088650e-01, 3.58441906e-01,\n",
       "        3.20602808e-01, 2.83855865e-01, 2.30354632e-01, 2.26935431e-01,\n",
       "        2.19702416e-01, 2.06364976e-01, 2.01856203e-01, 8.63596041e-02,\n",
       "        8.36891742e-02, 7.37955762e-02, 7.26963462e-02, 4.05285003e-04]))"
      ]
     },
     "execution_count": 40,
     "metadata": {},
     "output_type": "execute_result"
    }
   ],
   "source": [
    "roc_curve(y_train,probs[:,1])"
   ]
  },
  {
   "cell_type": "code",
   "execution_count": 41,
   "metadata": {},
   "outputs": [],
   "source": [
    "fpr,tpr,cutoffs = roc_curve(y_train,probs[:,1])"
   ]
  },
  {
   "cell_type": "code",
   "execution_count": 42,
   "metadata": {},
   "outputs": [
    {
     "data": {
      "image/png": "[encoded data removed]",
      "text/plain": [
       "<Figure size 864x576 with 1 Axes>"
      ]
     },
     "metadata": {},
     "output_type": "display_data"
    }
   ],
   "source": [
    "## Code here\n",
    "\n",
    "## Sample Solution\n",
    "plt.figure(figsize=(12,8))\n",
    "\n",
    "plt.plot(fpr,tpr)\n",
    "\n",
    "plt.xlabel(\"False Positive Rate\",fontsize=16)\n",
    "plt.ylabel(\"True Positive Rate\",fontsize=16)\n",
    "\n",
    "plt.xticks(fontsize=12)\n",
    "plt.yticks(fontsize=12)\n",
    "\n",
    "plt.show()"
   ]
  },
  {
   "cell_type": "code",
   "execution_count": 43,
   "metadata": {},
   "outputs": [],
   "source": [
    "from sklearn.metrics import roc_auc_score"
   ]
  },
  {
   "cell_type": "code",
   "execution_count": 44,
   "metadata": {},
   "outputs": [
    {
     "data": {
      "text/plain": [
       "0.8400000000000001"
      ]
     },
     "execution_count": 44,
     "metadata": {},
     "output_type": "execute_result"
    }
   ],
   "source": [
    "roc_auc_score(y_train,probs[:,1])"
   ]
  },
  {
   "cell_type": "code",
   "execution_count": null,
   "metadata": {},
   "outputs": [],
   "source": []
  },
  {
   "cell_type": "code",
   "execution_count": null,
   "metadata": {},
   "outputs": [],
   "source": []
  }
 ],
 "metadata": {
  "kernelspec": {
   "display_name": "Python 3",
   "language": "python",
   "name": "python3"
  },
  "language_info": {
   "codemirror_mode": {
    "name": "ipython",
    "version": 3
   },
   "file_extension": ".py",
   "mimetype": "text/x-python",
   "name": "python",
   "nbconvert_exporter": "python",
   "pygments_lexer": "ipython3",
   "version": "3.8.5"
  }
 },
 "nbformat": 4,
 "nbformat_minor": 4
}
