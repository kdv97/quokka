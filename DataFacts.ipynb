{
 "cells": [
  {
   "cell_type": "markdown",
   "metadata": {},
   "source": [
    "# Import Data"
   ]
  },
  {
   "cell_type": "code",
   "execution_count": 114,
   "metadata": {},
   "outputs": [],
   "source": [
    "import pandas as pd\n",
    "import numpy as np"
   ]
  },
  {
   "cell_type": "code",
   "execution_count": 155,
   "metadata": {},
   "outputs": [],
   "source": [
    "users = pd.read_csv(\"Users.csv\")"
   ]
  },
  {
   "cell_type": "code",
   "execution_count": 170,
   "metadata": {},
   "outputs": [
    {
     "name": "stdout",
     "output_type": "stream",
     "text": [
      "Index(['UserID', 'BirthYear', 'DA', 'DiagnosisYear', 'Gender', 'Impact',\n",
      "       'Levadopa', 'MAOB', 'Other', 'Parkinsons', 'Sided', 'Tremors', 'UPDRS'],\n",
      "      dtype='object')\n"
     ]
    }
   ],
   "source": [
    "print(users.columns)"
   ]
  },
  {
   "cell_type": "markdown",
   "metadata": {},
   "source": [
    "# Modify DataFrame"
   ]
  },
  {
   "cell_type": "markdown",
   "metadata": {},
   "source": [
    "Turn the DataFrame into more usable with all numbers. <br>\n",
    "UserID: dropped first 5 digits, which are are only \"User_\" <br>\n",
    "Parkinsons: 1 for diagnosed with Parkinsons, 0 for not <br>\n",
    "DA: 1 for using, 0 for not <br>\n",
    "Levadopa: 1 for using, 0 for not <br>\n",
    "MAOB: 1 for using, 0 for not <br>\n",
    "Other: 1 for using, 0 for not <br>\n",
    "Gender: 1 for female, 0 for male <br>\n",
    "Tremors: 1 for yes, 0 for no <br>\n",
    "Impact: 0 - 3 for not applicable, mild, medium, severe <br>\n",
    "Sided: 0 for none, 1 for left, 2 for right <br>\n",
    "UPDRS: 0 for unknown, then 1-5 on scale <br>\n",
    "\n"
   ]
  },
  {
   "cell_type": "code",
   "execution_count": 157,
   "metadata": {},
   "outputs": [],
   "source": [
    "conditions = [\n",
    "    (users['Impact'] == ' Mild'),\n",
    "    (users['Impact'] == ' Medium'),\n",
    "    (users['Impact'] == ' Severe'),\n",
    "    (users['Impact'] != ' Mild') & (users['Impact'] != ' Medium') & (users['Impact'] != 'Severe')\n",
    "    ]\n",
    "values = [1,2,3,0]\n",
    "\n",
    "conditions1 = [\n",
    "    (users['UPDRS'] == 'Don\\'t know'), \n",
    "    (users['UPDRS'] == '1'),\n",
    "    (users['UPDRS'] == '2'),\n",
    "    (users['UPDRS'] == '3'),\n",
    "    (users['UPDRS'] == '4'),\n",
    "    (users['UPDRS'] == '5')\n",
    "]\n",
    "values1 = [0,1,2,3,4,5]\n",
    "\n",
    "conditions2 = [\n",
    "    (users['Sided'] == ' None'),\n",
    "    (users['Sided'] == ' Left'),\n",
    "    (users['Sided'] == ' Right'),\n",
    "]\n",
    "values2 = [0,1,2]\n",
    "\n",
    "\n",
    "users['UserID'] = [e[5:] for e in users['UserID']]\n",
    "users['Gender'] = np.where(users['Gender'] == ' Female', 1, 0)\n",
    "users['Parkinsons'] = np.where(users['Parkinsons'] == ' True', 1, 0)\n",
    "users['DA'] = np.where(users['DA'] == ' True', 1, 0)\n",
    "users['Levadopa'] = np.where(users['Levadopa'] == ' True', 1, 0)\n",
    "users['MAOB'] = np.where(users['MAOB'] == ' True', 1, 0)\n",
    "users['Tremors'] = np.where(users['Tremors'] == ' True', 1, 0)\n",
    "users['Impact'] = np.select(conditions, values)\n",
    "users['Other'] = np.where(users['Other'] == ' True', 1, 0)\n",
    "users['Sided'] = np.select(conditions2, values2)\n",
    "users['UPDRS'] = np.select(conditions1, values1)"
   ]
  },
  {
   "cell_type": "code",
   "execution_count": 171,
   "metadata": {},
   "outputs": [
    {
     "data": {
      "text/html": [
       "<div>\n",
       "<style scoped>\n",
       "    .dataframe tbody tr th:only-of-type {\n",
       "        vertical-align: middle;\n",
       "    }\n",
       "\n",
       "    .dataframe tbody tr th {\n",
       "        vertical-align: top;\n",
       "    }\n",
       "\n",
       "    .dataframe thead th {\n",
       "        text-align: right;\n",
       "    }\n",
       "</style>\n",
       "<table border=\"1\" class=\"dataframe\">\n",
       "  <thead>\n",
       "    <tr style=\"text-align: right;\">\n",
       "      <th></th>\n",
       "      <th>UserID</th>\n",
       "      <th>BirthYear</th>\n",
       "      <th>DA</th>\n",
       "      <th>DiagnosisYear</th>\n",
       "      <th>Gender</th>\n",
       "      <th>Impact</th>\n",
       "      <th>Levadopa</th>\n",
       "      <th>MAOB</th>\n",
       "      <th>Other</th>\n",
       "      <th>Parkinsons</th>\n",
       "      <th>Sided</th>\n",
       "      <th>Tremors</th>\n",
       "      <th>UPDRS</th>\n",
       "    </tr>\n",
       "  </thead>\n",
       "  <tbody>\n",
       "    <tr>\n",
       "      <th>0</th>\n",
       "      <td>0EA27ICBLF</td>\n",
       "      <td>1952.0</td>\n",
       "      <td>1</td>\n",
       "      <td>2000</td>\n",
       "      <td>1</td>\n",
       "      <td>3</td>\n",
       "      <td>1</td>\n",
       "      <td>0</td>\n",
       "      <td>0</td>\n",
       "      <td>1</td>\n",
       "      <td>1</td>\n",
       "      <td>1</td>\n",
       "      <td>0</td>\n",
       "    </tr>\n",
       "    <tr>\n",
       "      <th>1</th>\n",
       "      <td>0QAZFRHQHW</td>\n",
       "      <td>1959.0</td>\n",
       "      <td>0</td>\n",
       "      <td>------</td>\n",
       "      <td>1</td>\n",
       "      <td>0</td>\n",
       "      <td>0</td>\n",
       "      <td>0</td>\n",
       "      <td>0</td>\n",
       "      <td>0</td>\n",
       "      <td>0</td>\n",
       "      <td>0</td>\n",
       "      <td>0</td>\n",
       "    </tr>\n",
       "    <tr>\n",
       "      <th>2</th>\n",
       "      <td>0WTDIGPSBZ</td>\n",
       "      <td>1946.0</td>\n",
       "      <td>0</td>\n",
       "      <td>------</td>\n",
       "      <td>1</td>\n",
       "      <td>0</td>\n",
       "      <td>0</td>\n",
       "      <td>0</td>\n",
       "      <td>0</td>\n",
       "      <td>0</td>\n",
       "      <td>0</td>\n",
       "      <td>0</td>\n",
       "      <td>0</td>\n",
       "    </tr>\n",
       "    <tr>\n",
       "      <th>3</th>\n",
       "      <td>1HOEBIGASW</td>\n",
       "      <td>1944.0</td>\n",
       "      <td>0</td>\n",
       "      <td>------</td>\n",
       "      <td>0</td>\n",
       "      <td>0</td>\n",
       "      <td>0</td>\n",
       "      <td>0</td>\n",
       "      <td>0</td>\n",
       "      <td>0</td>\n",
       "      <td>0</td>\n",
       "      <td>0</td>\n",
       "      <td>0</td>\n",
       "    </tr>\n",
       "    <tr>\n",
       "      <th>4</th>\n",
       "      <td>1WMVCCU4RH</td>\n",
       "      <td>1953.0</td>\n",
       "      <td>0</td>\n",
       "      <td>2017</td>\n",
       "      <td>0</td>\n",
       "      <td>2</td>\n",
       "      <td>0</td>\n",
       "      <td>0</td>\n",
       "      <td>0</td>\n",
       "      <td>1</td>\n",
       "      <td>1</td>\n",
       "      <td>1</td>\n",
       "      <td>0</td>\n",
       "    </tr>\n",
       "    <tr>\n",
       "      <th>5</th>\n",
       "      <td>1XNJCXS3EY</td>\n",
       "      <td>1936.0</td>\n",
       "      <td>0</td>\n",
       "      <td>------</td>\n",
       "      <td>0</td>\n",
       "      <td>0</td>\n",
       "      <td>0</td>\n",
       "      <td>0</td>\n",
       "      <td>0</td>\n",
       "      <td>0</td>\n",
       "      <td>0</td>\n",
       "      <td>0</td>\n",
       "      <td>0</td>\n",
       "    </tr>\n",
       "    <tr>\n",
       "      <th>6</th>\n",
       "      <td>2JTCBKUP8T</td>\n",
       "      <td>1958.0</td>\n",
       "      <td>0</td>\n",
       "      <td>2013</td>\n",
       "      <td>0</td>\n",
       "      <td>2</td>\n",
       "      <td>1</td>\n",
       "      <td>0</td>\n",
       "      <td>0</td>\n",
       "      <td>1</td>\n",
       "      <td>2</td>\n",
       "      <td>1</td>\n",
       "      <td>0</td>\n",
       "    </tr>\n",
       "    <tr>\n",
       "      <th>7</th>\n",
       "      <td>2X17VCRRQA</td>\n",
       "      <td>1951.0</td>\n",
       "      <td>0</td>\n",
       "      <td>2003</td>\n",
       "      <td>0</td>\n",
       "      <td>3</td>\n",
       "      <td>1</td>\n",
       "      <td>0</td>\n",
       "      <td>0</td>\n",
       "      <td>1</td>\n",
       "      <td>1</td>\n",
       "      <td>1</td>\n",
       "      <td>0</td>\n",
       "    </tr>\n",
       "    <tr>\n",
       "      <th>8</th>\n",
       "      <td>310NXPGJPD</td>\n",
       "      <td>1961.0</td>\n",
       "      <td>0</td>\n",
       "      <td>2015</td>\n",
       "      <td>1</td>\n",
       "      <td>2</td>\n",
       "      <td>1</td>\n",
       "      <td>0</td>\n",
       "      <td>1</td>\n",
       "      <td>1</td>\n",
       "      <td>1</td>\n",
       "      <td>1</td>\n",
       "      <td>0</td>\n",
       "    </tr>\n",
       "    <tr>\n",
       "      <th>9</th>\n",
       "      <td>39KQRZCESF</td>\n",
       "      <td>1942.0</td>\n",
       "      <td>1</td>\n",
       "      <td>2013</td>\n",
       "      <td>0</td>\n",
       "      <td>2</td>\n",
       "      <td>1</td>\n",
       "      <td>0</td>\n",
       "      <td>0</td>\n",
       "      <td>1</td>\n",
       "      <td>2</td>\n",
       "      <td>1</td>\n",
       "      <td>0</td>\n",
       "    </tr>\n",
       "  </tbody>\n",
       "</table>\n",
       "</div>"
      ],
      "text/plain": [
       "       UserID  BirthYear  DA DiagnosisYear  Gender  Impact  Levadopa  MAOB  \\\n",
       "0  0EA27ICBLF     1952.0   1          2000       1       3         1     0   \n",
       "1  0QAZFRHQHW     1959.0   0        ------       1       0         0     0   \n",
       "2  0WTDIGPSBZ     1946.0   0        ------       1       0         0     0   \n",
       "3  1HOEBIGASW     1944.0   0        ------       0       0         0     0   \n",
       "4  1WMVCCU4RH     1953.0   0          2017       0       2         0     0   \n",
       "5  1XNJCXS3EY     1936.0   0        ------       0       0         0     0   \n",
       "6  2JTCBKUP8T     1958.0   0          2013       0       2         1     0   \n",
       "7  2X17VCRRQA     1951.0   0          2003       0       3         1     0   \n",
       "8  310NXPGJPD     1961.0   0          2015       1       2         1     0   \n",
       "9  39KQRZCESF     1942.0   1          2013       0       2         1     0   \n",
       "\n",
       "   Other  Parkinsons  Sided  Tremors  UPDRS  \n",
       "0      0           1      1        1      0  \n",
       "1      0           0      0        0      0  \n",
       "2      0           0      0        0      0  \n",
       "3      0           0      0        0      0  \n",
       "4      0           1      1        1      0  \n",
       "5      0           0      0        0      0  \n",
       "6      0           1      2        1      0  \n",
       "7      0           1      1        1      0  \n",
       "8      1           1      1        1      0  \n",
       "9      0           1      2        1      0  "
      ]
     },
     "execution_count": 171,
     "metadata": {},
     "output_type": "execute_result"
    }
   ],
   "source": [
    "users.head(10)"
   ]
  },
  {
   "cell_type": "markdown",
   "metadata": {},
   "source": [
    "# Data Breakdown\n",
    "Here, we examine how the participants break down into the various categories."
   ]
  },
  {
   "cell_type": "code",
   "execution_count": 163,
   "metadata": {},
   "outputs": [
    {
     "name": "stdout",
     "output_type": "stream",
     "text": [
      "There are 169 observations in the parkinsons df.\n",
      "There are 58 observations in the none df.\n"
     ]
    }
   ],
   "source": [
    "parkinsons = users[users['Parkinsons'] == 1]\n",
    "none = users[users['Parkinsons'] == 0]\n",
    "print(\"There are\",len(parkinsons),\"observations in the parkinsons df.\")\n",
    "print(\"There are\",len(none),\"observations in the none df.\")"
   ]
  },
  {
   "cell_type": "code",
   "execution_count": 166,
   "metadata": {},
   "outputs": [
    {
     "name": "stdout",
     "output_type": "stream",
     "text": [
      "There are 33 people who take dopamine agonist.\n",
      "There are 194 people who do not (including those without parkinsons).\n"
     ]
    }
   ],
   "source": [
    "da = users[users['DA'] == 1]\n",
    "no_da = users.drop(da.index)\n",
    "print(\"There are\",len(da),\"people who take dopamine agonist.\")\n",
    "print(\"There are\",len(no_da),\"people who do not (including those without parkinsons).\")"
   ]
  },
  {
   "cell_type": "code",
   "execution_count": 167,
   "metadata": {},
   "outputs": [
    {
     "name": "stdout",
     "output_type": "stream",
     "text": [
      "There are 112 taking levadopa.\n",
      "There are 115 people who don't take levadopa\n"
     ]
    }
   ],
   "source": [
    "lev = users[users['Levadopa'] == 1]\n",
    "no_lev = users[users['Levadopa'] == 0]\n",
    "print(\"There are\",len(lev),\"taking levadopa.\")\n",
    "print(\"There are\",len(no_lev),\"people who don't take levadopa\")"
   ]
  },
  {
   "cell_type": "code",
   "execution_count": 168,
   "metadata": {},
   "outputs": [
    {
     "name": "stdout",
     "output_type": "stream",
     "text": [
      "There are 15 taking MAO-B inhibitor\n",
      "There are 212 people who don't take MAO-B inhibitor\n"
     ]
    }
   ],
   "source": [
    "mao = users[users['MAOB'] == 1]\n",
    "no_mao = users[users['MAOB'] == 0]\n",
    "print(\"There are\",len(mao),\"taking MAO-B inhibitor\")\n",
    "print(\"There are\",len(no_mao),\"people who don't take MAO-B inhibitor\")"
   ]
  }
 ],
 "metadata": {
  "kernelspec": {
   "display_name": "Python 3",
   "language": "python",
   "name": "python3"
  },
  "language_info": {
   "codemirror_mode": {
    "name": "ipython",
    "version": 3
   },
   "file_extension": ".py",
   "mimetype": "text/x-python",
   "name": "python",
   "nbconvert_exporter": "python",
   "pygments_lexer": "ipython3",
   "version": "3.8.5"
  }
 },
 "nbformat": 4,
 "nbformat_minor": 4
}
