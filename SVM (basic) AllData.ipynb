{
 "cells": [
  {
   "cell_type": "code",
   "execution_count": 66,
   "metadata": {},
   "outputs": [],
   "source": [
    "## For data handling\n",
    "import pandas as pd\n",
    "import numpy as np\n",
    "\n",
    "## For plotting\n",
    "import matplotlib.pyplot as plt\n",
    "import seaborn as sns\n",
    "\n",
    "## This sets the plot style\n",
    "## to have a grid on a white background\n",
    "sns.set_style(\"whitegrid\")"
   ]
  },
  {
   "cell_type": "code",
   "execution_count": 67,
   "metadata": {},
   "outputs": [],
   "source": [
    "df_all = pd.read_csv(\"AllData.csv\")"
   ]
  },
  {
   "cell_type": "code",
   "execution_count": 68,
   "metadata": {},
   "outputs": [],
   "source": [
    "df_all_minus_categorical = df_all[['Parkinsons','LLHold','LLLatency','LRHold','LRLatency','RLHold','RLLatency','RRHold', 'RRLatency']]\n",
    "new_df = df_all_minus_categorical.dropna()\n"
   ]
  },
  {
   "cell_type": "code",
   "execution_count": 72,
   "metadata": {},
   "outputs": [
    {
     "data": {
      "text/html": [
       "<div>\n",
       "<style scoped>\n",
       "    .dataframe tbody tr th:only-of-type {\n",
       "        vertical-align: middle;\n",
       "    }\n",
       "\n",
       "    .dataframe tbody tr th {\n",
       "        vertical-align: top;\n",
       "    }\n",
       "\n",
       "    .dataframe thead th {\n",
       "        text-align: right;\n",
       "    }\n",
       "</style>\n",
       "<table border=\"1\" class=\"dataframe\">\n",
       "  <thead>\n",
       "    <tr style=\"text-align: right;\">\n",
       "      <th></th>\n",
       "      <th>LLHold</th>\n",
       "      <th>LLLatency</th>\n",
       "      <th>LRHold</th>\n",
       "      <th>LRLatency</th>\n",
       "      <th>RLHold</th>\n",
       "      <th>RLLatency</th>\n",
       "      <th>RRHold</th>\n",
       "      <th>RRLatency</th>\n",
       "    </tr>\n",
       "  </thead>\n",
       "  <tbody>\n",
       "    <tr>\n",
       "      <th>0</th>\n",
       "      <td>82.169040</td>\n",
       "      <td>263.586377</td>\n",
       "      <td>81.946810</td>\n",
       "      <td>277.610541</td>\n",
       "      <td>74.671148</td>\n",
       "      <td>416.856331</td>\n",
       "      <td>79.294563</td>\n",
       "      <td>273.864624</td>\n",
       "    </tr>\n",
       "    <tr>\n",
       "      <th>1</th>\n",
       "      <td>97.654140</td>\n",
       "      <td>406.716242</td>\n",
       "      <td>107.138017</td>\n",
       "      <td>411.718182</td>\n",
       "      <td>100.917949</td>\n",
       "      <td>430.258974</td>\n",
       "      <td>96.400784</td>\n",
       "      <td>365.736471</td>\n",
       "    </tr>\n",
       "    <tr>\n",
       "      <th>2</th>\n",
       "      <td>64.452941</td>\n",
       "      <td>390.058824</td>\n",
       "      <td>66.233333</td>\n",
       "      <td>600.433333</td>\n",
       "      <td>68.500000</td>\n",
       "      <td>536.407143</td>\n",
       "      <td>64.341176</td>\n",
       "      <td>394.647059</td>\n",
       "    </tr>\n",
       "    <tr>\n",
       "      <th>3</th>\n",
       "      <td>143.399528</td>\n",
       "      <td>347.882547</td>\n",
       "      <td>105.325887</td>\n",
       "      <td>313.541489</td>\n",
       "      <td>163.700000</td>\n",
       "      <td>310.799454</td>\n",
       "      <td>106.208750</td>\n",
       "      <td>322.170833</td>\n",
       "    </tr>\n",
       "    <tr>\n",
       "      <th>4</th>\n",
       "      <td>87.418105</td>\n",
       "      <td>316.334084</td>\n",
       "      <td>95.753906</td>\n",
       "      <td>351.168548</td>\n",
       "      <td>91.759075</td>\n",
       "      <td>311.695939</td>\n",
       "      <td>87.046902</td>\n",
       "      <td>338.282118</td>\n",
       "    </tr>\n",
       "    <tr>\n",
       "      <th>...</th>\n",
       "      <td>...</td>\n",
       "      <td>...</td>\n",
       "      <td>...</td>\n",
       "      <td>...</td>\n",
       "      <td>...</td>\n",
       "      <td>...</td>\n",
       "      <td>...</td>\n",
       "      <td>...</td>\n",
       "    </tr>\n",
       "    <tr>\n",
       "      <th>211</th>\n",
       "      <td>109.729223</td>\n",
       "      <td>353.762243</td>\n",
       "      <td>110.151315</td>\n",
       "      <td>353.846670</td>\n",
       "      <td>114.032972</td>\n",
       "      <td>347.541292</td>\n",
       "      <td>108.025824</td>\n",
       "      <td>359.277471</td>\n",
       "    </tr>\n",
       "    <tr>\n",
       "      <th>212</th>\n",
       "      <td>80.446667</td>\n",
       "      <td>288.293333</td>\n",
       "      <td>93.760000</td>\n",
       "      <td>353.140000</td>\n",
       "      <td>92.071429</td>\n",
       "      <td>403.742857</td>\n",
       "      <td>91.800000</td>\n",
       "      <td>314.466667</td>\n",
       "    </tr>\n",
       "    <tr>\n",
       "      <th>213</th>\n",
       "      <td>102.673958</td>\n",
       "      <td>315.511042</td>\n",
       "      <td>99.788235</td>\n",
       "      <td>413.273529</td>\n",
       "      <td>125.187879</td>\n",
       "      <td>391.821212</td>\n",
       "      <td>96.545714</td>\n",
       "      <td>351.485714</td>\n",
       "    </tr>\n",
       "    <tr>\n",
       "      <th>215</th>\n",
       "      <td>101.543809</td>\n",
       "      <td>158.094059</td>\n",
       "      <td>92.716100</td>\n",
       "      <td>153.591263</td>\n",
       "      <td>97.558775</td>\n",
       "      <td>142.231463</td>\n",
       "      <td>95.320305</td>\n",
       "      <td>169.229960</td>\n",
       "    </tr>\n",
       "    <tr>\n",
       "      <th>216</th>\n",
       "      <td>150.485425</td>\n",
       "      <td>203.133072</td>\n",
       "      <td>135.830874</td>\n",
       "      <td>195.494628</td>\n",
       "      <td>146.938604</td>\n",
       "      <td>180.285211</td>\n",
       "      <td>130.504590</td>\n",
       "      <td>206.760194</td>\n",
       "    </tr>\n",
       "  </tbody>\n",
       "</table>\n",
       "<p>206 rows × 8 columns</p>\n",
       "</div>"
      ],
      "text/plain": [
       "         LLHold   LLLatency      LRHold   LRLatency      RLHold   RLLatency  \\\n",
       "0     82.169040  263.586377   81.946810  277.610541   74.671148  416.856331   \n",
       "1     97.654140  406.716242  107.138017  411.718182  100.917949  430.258974   \n",
       "2     64.452941  390.058824   66.233333  600.433333   68.500000  536.407143   \n",
       "3    143.399528  347.882547  105.325887  313.541489  163.700000  310.799454   \n",
       "4     87.418105  316.334084   95.753906  351.168548   91.759075  311.695939   \n",
       "..          ...         ...         ...         ...         ...         ...   \n",
       "211  109.729223  353.762243  110.151315  353.846670  114.032972  347.541292   \n",
       "212   80.446667  288.293333   93.760000  353.140000   92.071429  403.742857   \n",
       "213  102.673958  315.511042   99.788235  413.273529  125.187879  391.821212   \n",
       "215  101.543809  158.094059   92.716100  153.591263   97.558775  142.231463   \n",
       "216  150.485425  203.133072  135.830874  195.494628  146.938604  180.285211   \n",
       "\n",
       "         RRHold   RRLatency  \n",
       "0     79.294563  273.864624  \n",
       "1     96.400784  365.736471  \n",
       "2     64.341176  394.647059  \n",
       "3    106.208750  322.170833  \n",
       "4     87.046902  338.282118  \n",
       "..          ...         ...  \n",
       "211  108.025824  359.277471  \n",
       "212   91.800000  314.466667  \n",
       "213   96.545714  351.485714  \n",
       "215   95.320305  169.229960  \n",
       "216  130.504590  206.760194  \n",
       "\n",
       "[206 rows x 8 columns]"
      ]
     },
     "execution_count": 72,
     "metadata": {},
     "output_type": "execute_result"
    }
   ],
   "source": [
    "X_all = new_df.iloc[:,1:9]\n",
    "X_all"
   ]
  },
  {
   "cell_type": "code",
   "execution_count": 73,
   "metadata": {},
   "outputs": [
    {
     "data": {
      "text/plain": [
       "0      1\n",
       "1      0\n",
       "2      0\n",
       "3      0\n",
       "4      1\n",
       "      ..\n",
       "211    1\n",
       "212    1\n",
       "213    1\n",
       "215    1\n",
       "216    1\n",
       "Name: Parkinsons, Length: 206, dtype: int64"
      ]
     },
     "execution_count": 73,
     "metadata": {},
     "output_type": "execute_result"
    }
   ],
   "source": [
    "y_all = new_df.iloc[:,0]\n",
    "y_all"
   ]
  },
  {
   "cell_type": "code",
   "execution_count": 74,
   "metadata": {},
   "outputs": [],
   "source": [
    "from sklearn.model_selection import train_test_split"
   ]
  },
  {
   "cell_type": "code",
   "execution_count": 75,
   "metadata": {},
   "outputs": [],
   "source": [
    "X_train,X_test,y_train,y_test = train_test_split(X_all,y_all,\n",
    "                                                test_size=.25,\n",
    "                                                shuffle=True,\n",
    "                                                random_state=614,\n",
    "                                                stratify=y_all)"
   ]
  },
  {
   "cell_type": "code",
   "execution_count": 76,
   "metadata": {},
   "outputs": [],
   "source": [
    "from sklearn.preprocessing import StandardScaler\n",
    "from sklearn.pipeline import Pipeline\n",
    "from sklearn.svm import LinearSVC"
   ]
  },
  {
   "cell_type": "code",
   "execution_count": 77,
   "metadata": {},
   "outputs": [],
   "source": [
    "from sklearn.model_selection import StratifiedKFold\n",
    "from sklearn.base import clone\n",
    "from sklearn.metrics import accuracy_score\n",
    "from sklearn.decomposition import PCA"
   ]
  },
  {
   "cell_type": "code",
   "execution_count": 78,
   "metadata": {},
   "outputs": [
    {
     "data": {
      "text/plain": [
       "Pipeline(steps=[('scale', StandardScaler()),\n",
       "                ('svm', LinearSVC(C=1, loss='hinge'))])"
      ]
     },
     "execution_count": 78,
     "metadata": {},
     "output_type": "execute_result"
    }
   ],
   "source": [
    "pipe = Pipeline([('scale',StandardScaler()),\n",
    "                    ('svm',LinearSVC(C=1, loss=\"hinge\"))])\n",
    "\n",
    "\n",
    "pipe.fit(X_train, y_train)"
   ]
  },
  {
   "cell_type": "code",
   "execution_count": 79,
   "metadata": {},
   "outputs": [
    {
     "data": {
      "text/plain": [
       "0.75"
      ]
     },
     "execution_count": 79,
     "metadata": {},
     "output_type": "execute_result"
    }
   ],
   "source": [
    "pred = pipe.predict(X_test)\n",
    "        \n",
    "accuracy_score(y_test,pred)"
   ]
  },
  {
   "cell_type": "code",
   "execution_count": 80,
   "metadata": {},
   "outputs": [
    {
     "data": {
      "text/plain": [
       "0.7467532467532467"
      ]
     },
     "execution_count": 80,
     "metadata": {},
     "output_type": "execute_result"
    }
   ],
   "source": [
    "pred_train = pipe.predict(X_train)\n",
    "\n",
    "accuracy_score(y_train,pred_train)"
   ]
  },
  {
   "cell_type": "code",
   "execution_count": null,
   "metadata": {},
   "outputs": [],
   "source": []
  }
 ],
 "metadata": {
  "kernelspec": {
   "display_name": "Python 3",
   "language": "python",
   "name": "python3"
  },
  "language_info": {
   "codemirror_mode": {
    "name": "ipython",
    "version": 3
   },
   "file_extension": ".py",
   "mimetype": "text/x-python",
   "name": "python",
   "nbconvert_exporter": "python",
   "pygments_lexer": "ipython3",
   "version": "3.8.5"
  }
 },
 "nbformat": 4,
 "nbformat_minor": 4
}
