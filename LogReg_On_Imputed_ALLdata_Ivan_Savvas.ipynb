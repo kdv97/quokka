{
 "cells": [
  {
   "cell_type": "code",
   "execution_count": 1,
   "metadata": {},
   "outputs": [],
   "source": [
    "## For data handling\n",
    "import pandas as pd\n",
    "import numpy as np\n",
    "\n",
    "## For plotting\n",
    "import matplotlib.pyplot as plt\n",
    "import seaborn as sns\n",
    "\n",
    "## This sets the plot style\n",
    "## to have a grid on a white background\n",
    "sns.set_style(\"whitegrid\")"
   ]
  },
  {
   "cell_type": "code",
   "execution_count": 2,
   "metadata": {
    "scrolled": true
   },
   "outputs": [],
   "source": [
    "## Load in the randomly generated data\n",
    "tappy_df=pd.read_csv('Imputed_ALLdata_Ivan.csv')"
   ]
  },
  {
   "cell_type": "code",
   "execution_count": 3,
   "metadata": {},
   "outputs": [
    {
     "data": {
      "text/plain": [
       "102"
      ]
     },
     "execution_count": 3,
     "metadata": {},
     "output_type": "execute_result"
    }
   ],
   "source": [
    "length=len(list(tappy_df.columns))\n",
    "length"
   ]
  },
  {
   "cell_type": "code",
   "execution_count": 4,
   "metadata": {},
   "outputs": [],
   "source": [
    "X = tappy_df.iloc[:,0:length-6]\n",
    "y = tappy_df.iloc[:,length-1]"
   ]
  },
  {
   "cell_type": "code",
   "execution_count": 5,
   "metadata": {},
   "outputs": [],
   "source": [
    "from sklearn.model_selection import train_test_split"
   ]
  },
  {
   "cell_type": "code",
   "execution_count": 6,
   "metadata": {},
   "outputs": [],
   "source": [
    "X_train,X_test,y_train,y_test = train_test_split(X,y,\n",
    "                                                test_size=.25,\n",
    "                                                shuffle=True,\n",
    "                                                random_state=440,\n",
    "                                                stratify=y)"
   ]
  },
  {
   "cell_type": "code",
   "execution_count": 7,
   "metadata": {},
   "outputs": [],
   "source": [
    "from sklearn.linear_model import LogisticRegression"
   ]
  },
  {
   "cell_type": "code",
   "execution_count": 8,
   "metadata": {},
   "outputs": [
    {
     "data": {
      "text/plain": [
       "LogisticRegression(max_iter=10000)"
      ]
     },
     "execution_count": 8,
     "metadata": {},
     "output_type": "execute_result"
    }
   ],
   "source": [
    "log_reg = LogisticRegression(max_iter=10000)\n",
    "\n",
    "log_reg.fit(X_train,y_train)\n"
   ]
  },
  {
   "cell_type": "code",
   "execution_count": 9,
   "metadata": {},
   "outputs": [
    {
     "data": {
      "text/plain": [
       "array([9.98736414e-01, 9.99923282e-01, 9.46733056e-01, 1.00000000e+00,\n",
       "       1.00000000e+00, 9.43255813e-01, 9.80966626e-01, 8.88971680e-01,\n",
       "       8.61647687e-01, 2.35891670e-01, 3.98062208e-02, 7.49306936e-01,\n",
       "       9.99999962e-01, 9.99999998e-01, 7.47246954e-01, 9.52442897e-01,\n",
       "       8.29366136e-01, 9.14880150e-01, 1.00000000e+00, 9.70066048e-01,\n",
       "       7.75128483e-01, 9.99999991e-01, 1.67346453e-01, 9.58877104e-01,\n",
       "       7.87617275e-01, 9.72962591e-01, 9.30993671e-01, 1.90878944e-01,\n",
       "       5.29754891e-05, 2.47783802e-01, 9.94598980e-01, 2.69549454e-03,\n",
       "       9.85903405e-01, 9.10452565e-03, 9.99993937e-01, 9.88258181e-01,\n",
       "       7.65036531e-01, 1.00000000e+00, 9.99995956e-01, 5.70502543e-01,\n",
       "       1.03663496e-01, 8.32531297e-01, 1.00000000e+00, 2.76955905e-01,\n",
       "       9.99881894e-01, 9.99999991e-01, 2.10054248e-01, 9.66609388e-01,\n",
       "       9.99990469e-01, 9.88175568e-01, 9.98616497e-01, 1.00000000e+00,\n",
       "       9.46336757e-01, 9.98841228e-01, 9.58914974e-01, 1.72172293e-01,\n",
       "       9.99999971e-01, 9.58248349e-01, 5.85471636e-01, 9.99999221e-01,\n",
       "       9.99996905e-01, 8.18151162e-01, 9.99624367e-01, 1.00000000e+00,\n",
       "       9.92221639e-01, 9.05220330e-01, 8.73285424e-01, 9.99999971e-01,\n",
       "       9.99967761e-01, 2.77072143e-02, 9.99999913e-01, 9.99189353e-01,\n",
       "       9.99999960e-01, 7.65479161e-01, 9.93494001e-01, 3.28696067e-01,\n",
       "       1.50794412e-01, 2.43864064e-01, 9.99911052e-01, 9.99999999e-01,\n",
       "       9.79599302e-01, 9.93187752e-01, 9.99991260e-01, 1.00000000e+00,\n",
       "       9.84484593e-01, 1.00000000e+00, 2.81298387e-02, 9.99999906e-01,\n",
       "       9.98629461e-01, 7.60072282e-01, 9.99999384e-01, 9.99970441e-01,\n",
       "       4.90259312e-02, 1.18069288e-01, 9.99999986e-01, 6.64949321e-01,\n",
       "       9.99999983e-01, 1.74448767e-08, 1.00000000e+00, 7.80414184e-01,\n",
       "       1.60228707e-01, 9.99488121e-01, 9.99999204e-01, 9.67982310e-01,\n",
       "       3.39978033e-02, 9.99640985e-01, 9.98513908e-01, 9.79845663e-01,\n",
       "       9.97786011e-01, 3.74908050e-02, 9.95096802e-01, 9.99972397e-01,\n",
       "       9.04081889e-01, 2.90347232e-01, 9.74211433e-01, 7.47513808e-02,\n",
       "       4.72153230e-01, 2.03828518e-01, 2.64459379e-01, 1.91177850e-01,\n",
       "       9.99990657e-01, 9.99999978e-01, 7.60258785e-01, 9.97544959e-01,\n",
       "       2.79788051e-01, 9.99260873e-01, 9.85339835e-01, 9.32758811e-01,\n",
       "       9.99999997e-01, 9.99999737e-01, 1.00000000e+00, 1.87377848e-01,\n",
       "       9.60133532e-01, 8.20570213e-01, 8.24593559e-01, 9.72845384e-01,\n",
       "       9.99985644e-01, 3.31439720e-01, 3.74184564e-02, 3.68687910e-01,\n",
       "       9.34581358e-01, 1.83619528e-01, 9.99999799e-01])"
      ]
     },
     "execution_count": 9,
     "metadata": {},
     "output_type": "execute_result"
    }
   ],
   "source": [
    "log_reg.predict_proba(X_train)[:,1]"
   ]
  },
  {
   "cell_type": "code",
   "execution_count": 10,
   "metadata": {},
   "outputs": [
    {
     "name": "stdout",
     "output_type": "stream",
     "text": [
      "The training accuracy for a cutoff of 0.5 is 1.0\n"
     ]
    }
   ],
   "source": [
    "## Write code to calculate the accuracy for any cutoff, then choose your cutoff\n",
    "cutoff = .5\n",
    "\n",
    "## store the predicted probabilities\n",
    "y_prob = log_reg.predict_proba(X_train)[:,1]\n",
    "\n",
    "## assign the value based on the cutoff\n",
    "y_train_pred = 1*(y_prob > cutoff)\n",
    "\n",
    "## print the accuracy\n",
    "## input the accuracy after \"is\",\n",
    "print(\"The training accuracy for a cutoff of\",cutoff,\n",
    "      \"is\", np.sum(y_train_pred == y_train)/len(y_train))"
   ]
  },
  {
   "cell_type": "code",
   "execution_count": 11,
   "metadata": {},
   "outputs": [],
   "source": [
    "cutoffs = np.arange(0,1.01,.01)\n",
    "accs = []\n",
    "\n",
    "for cutoff in cutoffs:\n",
    "    y_train_pred = 1*(y_prob > cutoff)\n",
    "    accs.append(np.sum(y_train_pred == y_train)/len(y_train))"
   ]
  },
  {
   "cell_type": "code",
   "execution_count": 12,
   "metadata": {},
   "outputs": [
    {
     "data": {
      "image/png": "[encoded data removed]",
      "text/plain": [
       "<Figure size 864x576 with 1 Axes>"
      ]
     },
     "metadata": {},
     "output_type": "display_data"
    }
   ],
   "source": [
    "plt.figure(figsize=(12,8))\n",
    "\n",
    "plt.scatter(cutoffs,accs)\n",
    "\n",
    "plt.xlabel(\"Cutoff\",fontsize=16)\n",
    "plt.ylabel(\"Training Accuracy\",fontsize=16)\n",
    "\n",
    "plt.show()"
   ]
  },
  {
   "cell_type": "code",
   "execution_count": 13,
   "metadata": {},
   "outputs": [
    {
     "name": "stdout",
     "output_type": "stream",
     "text": [
      "A .1 unit increase in our feature multiplies the odds of being classified as 1 by 0.95\n"
     ]
    }
   ],
   "source": [
    "print(\"A .1 unit increase in our feature multiplies\" + \n",
    "      \" the odds of being classified as 1 by \" + \n",
    "      str(np.round(np.exp(.1*log_reg.coef_[0][0]),2)))"
   ]
  },
  {
   "cell_type": "code",
   "execution_count": null,
   "metadata": {},
   "outputs": [],
   "source": []
  }
 ],
 "metadata": {
  "kernelspec": {
   "display_name": "Python 3",
   "language": "python",
   "name": "python3"
  },
  "language_info": {
   "codemirror_mode": {
    "name": "ipython",
    "version": 3
   },
   "file_extension": ".py",
   "mimetype": "text/x-python",
   "name": "python",
   "nbconvert_exporter": "python",
   "pygments_lexer": "ipython3",
   "version": "3.8.5"
  }
 },
 "nbformat": 4,
 "nbformat_minor": 4
}
