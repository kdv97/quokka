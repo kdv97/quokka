{
 "cells": [
  {
   "cell_type": "code",
   "execution_count": 1,
   "metadata": {},
   "outputs": [],
   "source": [
    "## for data handling \n",
    "import pandas as pd\n",
    "import numpy as np\n",
    "\n",
    "## for plotting\n",
    "import matplotlib.pyplot as plt\n",
    "import seaborn as sns\n",
    "\n",
    "sns.set_style(\"white\")"
   ]
  },
  {
   "cell_type": "code",
   "execution_count": 2,
   "metadata": {},
   "outputs": [
    {
     "name": "stdout",
     "output_type": "stream",
     "text": [
      "['LLHold', 'LLLatency', 'LRHold', 'LRLatency', 'LSHold', 'LSLatency', 'RLHold', 'RLLatency', 'RRHold', 'RRLatency', 'RSHold', 'RSLatency', 'SLHold', 'SLLatency', 'SRHold', 'SRLatency', 'SSHold', 'SSLatency', 'LLHoldStd', 'LLLatencyStd', 'LRHoldStd', 'LRLatencyStd', 'LSHoldStd', 'LSLatencyStd', 'RLHoldStd', 'RLLatencyStd', 'RRHoldStd', 'RRLatencyStd', 'RSHoldStd', 'RSLatencyStd', 'SLHoldStd', 'SLLatencyStd', 'SRHoldStd', 'SRLatencyStd', 'SSHoldStd', 'SSLatencyStd', 'LLHoldSkew', 'LLLatencySkew', 'LRHoldSkew', 'LRLatencySkew', 'LSHoldSkew', 'LSLatencySkew', 'RLHoldSkew', 'RLLatencySkew', 'RRHoldSkew', 'RRLatencySkew', 'RSHoldSkew', 'RSLatencySkew', 'SLHoldSkew', 'SLLatencySkew', 'SRHoldSkew', 'SRLatencySkew', 'SSHoldSkew', 'SSLatencySkew', 'LLHoldKurt', 'LLLatencyKurt', 'LRHoldKurt', 'LRLatencyKurt', 'LSHoldKurt', 'LSLatencyKurt', 'RLHoldKurt', 'RLLatencyKurt', 'RRHoldKurt', 'RRLatencyKurt', 'RSHoldKurt', 'RSLatencyKurt', 'SLHoldKurt', 'SLLatencyKurt', 'SRHoldKurt', 'SRLatencyKurt', 'SSHoldKurt', 'SSLatencyKurt', 'LHold', 'LLatency', 'RHold', 'RLatency', 'SHold', 'SLatency', 'LHoldStd', 'LLatencyStd', 'RHoldStd', 'RLatencyStd', 'SHoldStd', 'SLatencyStd', 'LHoldSkew', 'LLatencySkew', 'RHoldSkew', 'RLatencySkew', 'SHoldSkew', 'SLatencySkew', 'LHoldKurt', 'LLatencyKurt', 'RHoldKurt', 'RLatencyKurt', 'SHoldKurt', 'SLatencyKurt', 'LRHold_Diff', 'LLRRLatency_Diff', 'LRRLLatency_Diff', 'HoldMean', 'LatencyMean']\n",
      "217\n",
      "140\n"
     ]
    },
    {
     "data": {
      "text/html": [
       "<div>\n",
       "<style scoped>\n",
       "    .dataframe tbody tr th:only-of-type {\n",
       "        vertical-align: middle;\n",
       "    }\n",
       "\n",
       "    .dataframe tbody tr th {\n",
       "        vertical-align: top;\n",
       "    }\n",
       "\n",
       "    .dataframe thead th {\n",
       "        text-align: right;\n",
       "    }\n",
       "</style>\n",
       "<table border=\"1\" class=\"dataframe\">\n",
       "  <thead>\n",
       "    <tr style=\"text-align: right;\">\n",
       "      <th></th>\n",
       "      <th>UserID</th>\n",
       "      <th>BirthYear</th>\n",
       "      <th>DA</th>\n",
       "      <th>DiagnosisYear</th>\n",
       "      <th>Gender</th>\n",
       "      <th>Impact</th>\n",
       "      <th>Levadopa</th>\n",
       "      <th>MAOB</th>\n",
       "      <th>Other</th>\n",
       "      <th>Parkinsons</th>\n",
       "      <th>...</th>\n",
       "      <th>LLatencyKurt</th>\n",
       "      <th>RHoldKurt</th>\n",
       "      <th>RLatencyKurt</th>\n",
       "      <th>SHoldKurt</th>\n",
       "      <th>SLatencyKurt</th>\n",
       "      <th>LRHold_Diff</th>\n",
       "      <th>LLRRLatency_Diff</th>\n",
       "      <th>LRRLLatency_Diff</th>\n",
       "      <th>HoldMean</th>\n",
       "      <th>LatencyMean</th>\n",
       "    </tr>\n",
       "  </thead>\n",
       "  <tbody>\n",
       "    <tr>\n",
       "      <th>0</th>\n",
       "      <td>0EA27ICBLF</td>\n",
       "      <td>1952.0</td>\n",
       "      <td>1</td>\n",
       "      <td>2000.0</td>\n",
       "      <td>1</td>\n",
       "      <td>3</td>\n",
       "      <td>1</td>\n",
       "      <td>0</td>\n",
       "      <td>0</td>\n",
       "      <td>1</td>\n",
       "      <td>...</td>\n",
       "      <td>-1.160590</td>\n",
       "      <td>44.944694</td>\n",
       "      <td>-1.138668</td>\n",
       "      <td>18.938591</td>\n",
       "      <td>2.047950</td>\n",
       "      <td>-1.555339</td>\n",
       "      <td>-10.278247</td>\n",
       "      <td>-139.245790</td>\n",
       "      <td>87.090011</td>\n",
       "      <td>286.112183</td>\n",
       "    </tr>\n",
       "    <tr>\n",
       "      <th>1</th>\n",
       "      <td>0QAZFRHQHW</td>\n",
       "      <td>1959.0</td>\n",
       "      <td>0</td>\n",
       "      <td>NaN</td>\n",
       "      <td>1</td>\n",
       "      <td>0</td>\n",
       "      <td>0</td>\n",
       "      <td>0</td>\n",
       "      <td>0</td>\n",
       "      <td>0</td>\n",
       "      <td>...</td>\n",
       "      <td>-0.736605</td>\n",
       "      <td>110.960777</td>\n",
       "      <td>-0.838186</td>\n",
       "      <td>0.696979</td>\n",
       "      <td>0.597395</td>\n",
       "      <td>-2.663930</td>\n",
       "      <td>40.979771</td>\n",
       "      <td>-18.540793</td>\n",
       "      <td>102.873688</td>\n",
       "      <td>405.924138</td>\n",
       "    </tr>\n",
       "    <tr>\n",
       "      <th>3</th>\n",
       "      <td>1XNJCXS3EY</td>\n",
       "      <td>1936.0</td>\n",
       "      <td>0</td>\n",
       "      <td>NaN</td>\n",
       "      <td>0</td>\n",
       "      <td>0</td>\n",
       "      <td>0</td>\n",
       "      <td>0</td>\n",
       "      <td>0</td>\n",
       "      <td>0</td>\n",
       "      <td>...</td>\n",
       "      <td>0.235101</td>\n",
       "      <td>24.142310</td>\n",
       "      <td>-0.177558</td>\n",
       "      <td>6.900573</td>\n",
       "      <td>-0.340523</td>\n",
       "      <td>48.079984</td>\n",
       "      <td>25.711714</td>\n",
       "      <td>2.742036</td>\n",
       "      <td>123.793469</td>\n",
       "      <td>325.569638</td>\n",
       "    </tr>\n",
       "    <tr>\n",
       "      <th>4</th>\n",
       "      <td>2JTCBKUP8T</td>\n",
       "      <td>1958.0</td>\n",
       "      <td>0</td>\n",
       "      <td>2013.0</td>\n",
       "      <td>0</td>\n",
       "      <td>2</td>\n",
       "      <td>1</td>\n",
       "      <td>0</td>\n",
       "      <td>0</td>\n",
       "      <td>1</td>\n",
       "      <td>...</td>\n",
       "      <td>0.083280</td>\n",
       "      <td>2.216855</td>\n",
       "      <td>-0.447737</td>\n",
       "      <td>6.529645</td>\n",
       "      <td>-0.368982</td>\n",
       "      <td>-1.529482</td>\n",
       "      <td>-21.948033</td>\n",
       "      <td>39.472609</td>\n",
       "      <td>90.409640</td>\n",
       "      <td>327.473805</td>\n",
       "    </tr>\n",
       "    <tr>\n",
       "      <th>7</th>\n",
       "      <td>39KQRZCESF</td>\n",
       "      <td>1942.0</td>\n",
       "      <td>1</td>\n",
       "      <td>2013.0</td>\n",
       "      <td>0</td>\n",
       "      <td>2</td>\n",
       "      <td>1</td>\n",
       "      <td>0</td>\n",
       "      <td>0</td>\n",
       "      <td>1</td>\n",
       "      <td>...</td>\n",
       "      <td>-0.537863</td>\n",
       "      <td>2.499579</td>\n",
       "      <td>0.378854</td>\n",
       "      <td>3462.512084</td>\n",
       "      <td>4.736702</td>\n",
       "      <td>20.670712</td>\n",
       "      <td>42.904888</td>\n",
       "      <td>-16.074696</td>\n",
       "      <td>178.433283</td>\n",
       "      <td>315.140509</td>\n",
       "    </tr>\n",
       "  </tbody>\n",
       "</table>\n",
       "<p>5 rows × 114 columns</p>\n",
       "</div>"
      ],
      "text/plain": [
       "       UserID  BirthYear  DA  DiagnosisYear  Gender  Impact  Levadopa  MAOB  \\\n",
       "0  0EA27ICBLF     1952.0   1         2000.0       1       3         1     0   \n",
       "1  0QAZFRHQHW     1959.0   0            NaN       1       0         0     0   \n",
       "3  1XNJCXS3EY     1936.0   0            NaN       0       0         0     0   \n",
       "4  2JTCBKUP8T     1958.0   0         2013.0       0       2         1     0   \n",
       "7  39KQRZCESF     1942.0   1         2013.0       0       2         1     0   \n",
       "\n",
       "   Other  Parkinsons  ...  LLatencyKurt   RHoldKurt  RLatencyKurt  \\\n",
       "0      0           1  ...     -1.160590   44.944694     -1.138668   \n",
       "1      0           0  ...     -0.736605  110.960777     -0.838186   \n",
       "3      0           0  ...      0.235101   24.142310     -0.177558   \n",
       "4      0           1  ...      0.083280    2.216855     -0.447737   \n",
       "7      0           1  ...     -0.537863    2.499579      0.378854   \n",
       "\n",
       "     SHoldKurt  SLatencyKurt  LRHold_Diff  LLRRLatency_Diff  LRRLLatency_Diff  \\\n",
       "0    18.938591      2.047950    -1.555339        -10.278247       -139.245790   \n",
       "1     0.696979      0.597395    -2.663930         40.979771        -18.540793   \n",
       "3     6.900573     -0.340523    48.079984         25.711714          2.742036   \n",
       "4     6.529645     -0.368982    -1.529482        -21.948033         39.472609   \n",
       "7  3462.512084      4.736702    20.670712         42.904888        -16.074696   \n",
       "\n",
       "     HoldMean  LatencyMean  \n",
       "0   87.090011   286.112183  \n",
       "1  102.873688   405.924138  \n",
       "3  123.793469   325.569638  \n",
       "4   90.409640   327.473805  \n",
       "7  178.433283   315.140509  \n",
       "\n",
       "[5 rows x 114 columns]"
      ]
     },
     "execution_count": 2,
     "metadata": {},
     "output_type": "execute_result"
    }
   ],
   "source": [
    "tappy_df_all=pd.read_csv('AllData.csv') \n",
    "columns = list(tappy_df_all.loc[:, 'LLHold':'LatencyMean'])\n",
    "print(columns)\n",
    "print(len(tappy_df_all))\n",
    "tappy_df=tappy_df_all.dropna(subset=columns)\n",
    "print(len(tappy_df))\n",
    "tappy_df.head()"
   ]
  },
  {
   "cell_type": "code",
   "execution_count": 3,
   "metadata": {},
   "outputs": [
    {
     "data": {
      "text/plain": [
       "['UserID',\n",
       " 'BirthYear',\n",
       " 'DA',\n",
       " 'DiagnosisYear',\n",
       " 'Gender',\n",
       " 'Impact',\n",
       " 'Levadopa',\n",
       " 'MAOB',\n",
       " 'Other',\n",
       " 'Parkinsons',\n",
       " 'Sided',\n",
       " 'Tremors',\n",
       " 'UPDRS',\n",
       " 'LLHold',\n",
       " 'LLLatency',\n",
       " 'LRHold',\n",
       " 'LRLatency',\n",
       " 'LSHold',\n",
       " 'LSLatency',\n",
       " 'RLHold',\n",
       " 'RLLatency',\n",
       " 'RRHold',\n",
       " 'RRLatency',\n",
       " 'RSHold',\n",
       " 'RSLatency',\n",
       " 'SLHold',\n",
       " 'SLLatency',\n",
       " 'SRHold',\n",
       " 'SRLatency',\n",
       " 'SSHold',\n",
       " 'SSLatency',\n",
       " 'LLHoldStd',\n",
       " 'LLLatencyStd',\n",
       " 'LRHoldStd',\n",
       " 'LRLatencyStd',\n",
       " 'LSHoldStd',\n",
       " 'LSLatencyStd',\n",
       " 'RLHoldStd',\n",
       " 'RLLatencyStd',\n",
       " 'RRHoldStd',\n",
       " 'RRLatencyStd',\n",
       " 'RSHoldStd',\n",
       " 'RSLatencyStd',\n",
       " 'SLHoldStd',\n",
       " 'SLLatencyStd',\n",
       " 'SRHoldStd',\n",
       " 'SRLatencyStd',\n",
       " 'SSHoldStd',\n",
       " 'SSLatencyStd',\n",
       " 'LLHoldSkew',\n",
       " 'LLLatencySkew',\n",
       " 'LRHoldSkew',\n",
       " 'LRLatencySkew',\n",
       " 'LSHoldSkew',\n",
       " 'LSLatencySkew',\n",
       " 'RLHoldSkew',\n",
       " 'RLLatencySkew',\n",
       " 'RRHoldSkew',\n",
       " 'RRLatencySkew',\n",
       " 'RSHoldSkew',\n",
       " 'RSLatencySkew',\n",
       " 'SLHoldSkew',\n",
       " 'SLLatencySkew',\n",
       " 'SRHoldSkew',\n",
       " 'SRLatencySkew',\n",
       " 'SSHoldSkew',\n",
       " 'SSLatencySkew',\n",
       " 'LLHoldKurt',\n",
       " 'LLLatencyKurt',\n",
       " 'LRHoldKurt',\n",
       " 'LRLatencyKurt',\n",
       " 'LSHoldKurt',\n",
       " 'LSLatencyKurt',\n",
       " 'RLHoldKurt',\n",
       " 'RLLatencyKurt',\n",
       " 'RRHoldKurt',\n",
       " 'RRLatencyKurt',\n",
       " 'RSHoldKurt',\n",
       " 'RSLatencyKurt',\n",
       " 'SLHoldKurt',\n",
       " 'SLLatencyKurt',\n",
       " 'SRHoldKurt',\n",
       " 'SRLatencyKurt',\n",
       " 'SSHoldKurt',\n",
       " 'SSLatencyKurt',\n",
       " 'LHold',\n",
       " 'LLatency',\n",
       " 'RHold',\n",
       " 'RLatency',\n",
       " 'SHold',\n",
       " 'SLatency',\n",
       " 'LHoldStd',\n",
       " 'LLatencyStd',\n",
       " 'RHoldStd',\n",
       " 'RLatencyStd',\n",
       " 'SHoldStd',\n",
       " 'SLatencyStd',\n",
       " 'LHoldSkew',\n",
       " 'LLatencySkew',\n",
       " 'RHoldSkew',\n",
       " 'RLatencySkew',\n",
       " 'SHoldSkew',\n",
       " 'SLatencySkew',\n",
       " 'LHoldKurt',\n",
       " 'LLatencyKurt',\n",
       " 'RHoldKurt',\n",
       " 'RLatencyKurt',\n",
       " 'SHoldKurt',\n",
       " 'SLatencyKurt',\n",
       " 'LRHold_Diff',\n",
       " 'LLRRLatency_Diff',\n",
       " 'LRRLLatency_Diff',\n",
       " 'HoldMean',\n",
       " 'LatencyMean']"
      ]
     },
     "execution_count": 3,
     "metadata": {},
     "output_type": "execute_result"
    }
   ],
   "source": [
    "list(tappy_df.columns)"
   ]
  },
  {
   "cell_type": "code",
   "execution_count": 4,
   "metadata": {},
   "outputs": [
    {
     "data": {
      "image/png": "[encoded data removed]",
      "text/plain": [
       "<Figure size 526x468 with 1 Axes>"
      ]
     },
     "metadata": {},
     "output_type": "display_data"
    }
   ],
   "source": [
    "sns.lmplot(data = tappy_df, x = 'LHold', \n",
    "            y = 'LLatency',hue='Parkinsons',fit_reg=False,\n",
    "            height = 6.5,legend=True)\n",
    "\n",
    "#plt.legend(title='Parkinsons', loc='upper left', \n",
    "#          labels=['no', 'yes'], \n",
    "#           fontsize = 12)\n",
    "plt.xlabel(\"LHold\",fontsize = 16)\n",
    "plt.ylabel(\"LLatency\",fontsize = 16)\n",
    "\n",
    "plt.show()"
   ]
  },
  {
   "cell_type": "code",
   "execution_count": 10,
   "metadata": {},
   "outputs": [],
   "source": [
    "X = tappy_df[['LLHold','LLLatency','LRHold','LRLatency','LSHold','LSLatency','RLHold','RLLatency','RRHold',\n",
    "              'RRLatency','RSHold','RSLatency','SLHold','SLLatency','SRHold','SRLatency','SSHold','SSLatency','LHold','RHold','SHold']].to_numpy()\n",
    "y = tappy_df[['Parkinsons']].to_numpy()"
   ]
  },
  {
   "cell_type": "code",
   "execution_count": 11,
   "metadata": {},
   "outputs": [],
   "source": [
    "from sklearn.model_selection import train_test_split"
   ]
  },
  {
   "cell_type": "code",
   "execution_count": 12,
   "metadata": {},
   "outputs": [],
   "source": [
    "X_train, X_test, y_train, y_test = train_test_split(X, y, \n",
    "                                                    test_size=0.25,\n",
    "                                                    random_state = 440, \n",
    "                                                    shuffle=True,\n",
    "                                                    stratify=y)"
   ]
  },
  {
   "cell_type": "code",
   "execution_count": 13,
   "metadata": {},
   "outputs": [],
   "source": [
    "from sklearn.neighbors import KNeighborsClassifier"
   ]
  },
  {
   "cell_type": "code",
   "execution_count": 14,
   "metadata": {},
   "outputs": [],
   "source": [
    "knn = KNeighborsClassifier(n_neighbors = 3)"
   ]
  },
  {
   "cell_type": "code",
   "execution_count": 15,
   "metadata": {},
   "outputs": [
    {
     "data": {
      "text/plain": [
       "KNeighborsClassifier(n_neighbors=3)"
      ]
     },
     "execution_count": 15,
     "metadata": {},
     "output_type": "execute_result"
    }
   ],
   "source": [
    "knn.fit(X_train,y_train.ravel())"
   ]
  },
  {
   "cell_type": "code",
   "execution_count": 16,
   "metadata": {},
   "outputs": [],
   "source": [
    "## Make a prediction on our train set\n",
    "y_predict = knn.predict(X_train)"
   ]
  },
  {
   "cell_type": "code",
   "execution_count": 17,
   "metadata": {},
   "outputs": [],
   "source": [
    "def get_acc(model,X,y):\n",
    "    pred = model.predict(X)\n",
    "    return np.sum(pred == y)/len(y)"
   ]
  },
  {
   "cell_type": "code",
   "execution_count": 18,
   "metadata": {},
   "outputs": [],
   "source": [
    "accu=get_acc(knn, X_train, y_train.ravel())"
   ]
  },
  {
   "cell_type": "code",
   "execution_count": 19,
   "metadata": {},
   "outputs": [
    {
     "name": "stdout",
     "output_type": "stream",
     "text": [
      "Our model has a  79.05 % accuracy on the training set\n",
      "79.04761904761905\n"
     ]
    }
   ],
   "source": [
    "print(\"Our model has a \",\n",
    "      np.round(sum(y_predict == y_train.ravel())/len(y_train.ravel())*100,2),\n",
    "      \"% accuracy on the training set\")\n",
    "\n",
    "print(100*accu)"
   ]
  },
  {
   "cell_type": "code",
   "execution_count": 20,
   "metadata": {},
   "outputs": [],
   "source": [
    "from sklearn.model_selection import StratifiedKFold"
   ]
  },
  {
   "cell_type": "code",
   "execution_count": 21,
   "metadata": {},
   "outputs": [],
   "source": [
    "kfold = StratifiedKFold(5,shuffle = True,random_state = 440)"
   ]
  },
  {
   "cell_type": "code",
   "execution_count": 22,
   "metadata": {},
   "outputs": [],
   "source": [
    "#CV\n",
    "max_neighbors = 30\n",
    "\n",
    "accs = np.zeros((5,max_neighbors))\n",
    "\n",
    "## keep track of the train test split\n",
    "j = 0\n",
    "\n",
    "\n",
    "for train_index, test_index in kfold.split(X_train,y_train):\n",
    "    # Get the cv train test split\n",
    "    X_train_train, X_train_test = X_train[train_index], X_train[test_index]\n",
    "    y_train_train, y_train_test = y_train[train_index], y_train[test_index]\n",
    "    for i in range(1,max_neighbors+1):\n",
    "        knn = KNeighborsClassifier(i)\n",
    "        \n",
    "        # fit the model\n",
    "        knn.fit(X_train_train, y_train_train.ravel())\n",
    "        \n",
    "        accs[j,i-1] = get_acc(knn, X_train_test, y_train_test.ravel())\n",
    "        \n",
    "    j=j+1\n",
    "    "
   ]
  },
  {
   "cell_type": "code",
   "execution_count": 23,
   "metadata": {},
   "outputs": [
    {
     "name": "stdout",
     "output_type": "stream",
     "text": [
      "[  0   1   2   4   6   7   8   9  10  11  12  13  14  16  17  18  19  22\n",
      "  23  24  25  26  28  29  30  32  35  36  37  38  40  41  42  43  46  48\n",
      "  49  50  51  52  53  55  56  57  58  60  61  62  63  64  65  67  70  71\n",
      "  72  73  75  76  77  78  79  80  82  83  84  85  86  87  88  89  90  91\n",
      "  92  93  95  96  97  98  99 100 101 102 103 104]\n",
      "[ 3  5 15 20 21 27 31 33 34 39 44 45 47 54 59 66 68 69 74 81 94]\n",
      "\n",
      "[  0   2   3   5   7   8   9  10  11  12  13  14  15  17  18  19  20  21\n",
      "  23  24  25  26  27  28  29  30  31  32  33  34  35  36  37  39  40  41\n",
      "  43  44  45  47  48  49  50  51  52  54  56  57  59  60  62  63  64  65\n",
      "  66  67  68  69  70  72  73  74  77  78  80  81  83  84  85  87  88  89\n",
      "  90  91  92  93  94  95  96  97  99 101 102 103]\n",
      "[  1   4   6  16  22  38  42  46  53  55  58  61  71  75  76  79  82  86\n",
      "  98 100 104]\n",
      "\n",
      "[  1   2   3   4   5   6   7   8   9  10  11  14  15  16  17  20  21  22\n",
      "  25  26  27  29  30  31  32  33  34  35  37  38  39  40  42  44  45  46\n",
      "  47  48  50  51  53  54  55  56  57  58  59  60  61  62  64  65  66  67\n",
      "  68  69  70  71  72  73  74  75  76  77  78  79  81  82  83  84  86  88\n",
      "  89  90  91  92  94  97  98  99 100 102 103 104]\n",
      "[  0  12  13  18  19  23  24  28  36  41  43  49  52  63  80  85  87  93\n",
      "  95  96 101]\n",
      "\n",
      "[  0   1   2   3   4   5   6   8  10  11  12  13  15  16  17  18  19  20\n",
      "  21  22  23  24  27  28  29  30  31  32  33  34  36  37  38  39  40  41\n",
      "  42  43  44  45  46  47  49  50  52  53  54  55  56  57  58  59  60  61\n",
      "  63  64  66  67  68  69  71  73  74  75  76  77  78  79  80  81  82  85\n",
      "  86  87  89  93  94  95  96  98 100 101 103 104]\n",
      "[  7   9  14  25  26  35  48  51  62  65  70  72  83  84  88  90  91  92\n",
      "  97  99 102]\n",
      "\n",
      "[  0   1   3   4   5   6   7   9  12  13  14  15  16  18  19  20  21  22\n",
      "  23  24  25  26  27  28  31  33  34  35  36  38  39  41  42  43  44  45\n",
      "  46  47  48  49  51  52  53  54  55  58  59  61  62  63  65  66  68  69\n",
      "  70  71  72  74  75  76  79  80  81  82  83  84  85  86  87  88  90  91\n",
      "  92  93  94  95  96  97  98  99 100 101 102 104]\n",
      "[  2   8  10  11  17  29  30  32  37  40  50  56  57  60  64  67  73  77\n",
      "  78  89 103]\n",
      "\n"
     ]
    }
   ],
   "source": [
    "for train_index, test_index in kfold.split(X_train, y_train):\n",
    "    print(train_index)\n",
    "    print(test_index)\n",
    "    print()"
   ]
  },
  {
   "cell_type": "code",
   "execution_count": 24,
   "metadata": {},
   "outputs": [
    {
     "data": {
      "image/png": "[encoded data removed]",
      "text/plain": [
       "<Figure size 1008x576 with 1 Axes>"
      ]
     },
     "metadata": {},
     "output_type": "display_data"
    }
   ],
   "source": [
    "# Plot how the accuracy changes\n",
    "sns.set_style(\"whitegrid\")\n",
    "\n",
    "plt.figure(figsize=(14,8))\n",
    "\n",
    "plt.plot(range(1,max_neighbors+1), 100*np.mean(accs, axis=0))\n",
    "\n",
    "plt.xlabel(\"Number of Neighbors\", fontsize=16)\n",
    "plt.ylabel(\"Average CV Accuracy (%)\", fontsize=16)\n",
    "\n",
    "plt.show()"
   ]
  },
  {
   "cell_type": "code",
   "execution_count": 1,
   "metadata": {},
   "outputs": [
    {
     "ename": "NameError",
     "evalue": "name 'KNeighborsClassifier' is not defined",
     "output_type": "error",
     "traceback": [
      "\u001b[1;31m---------------------------------------------------------------------------\u001b[0m",
      "\u001b[1;31mNameError\u001b[0m                                 Traceback (most recent call last)",
      "\u001b[1;32m<ipython-input-1-660fb175f819>\u001b[0m in \u001b[0;36m<module>\u001b[1;34m\u001b[0m\n\u001b[1;32m----> 1\u001b[1;33m \u001b[0mknn\u001b[0m \u001b[1;33m=\u001b[0m \u001b[0mKNeighborsClassifier\u001b[0m\u001b[1;33m(\u001b[0m\u001b[0mn_neighbors\u001b[0m \u001b[1;33m=\u001b[0m \u001b[1;36m13\u001b[0m\u001b[1;33m)\u001b[0m\u001b[1;33m\u001b[0m\u001b[1;33m\u001b[0m\u001b[0m\n\u001b[0m\u001b[0;32m      2\u001b[0m \u001b[1;33m\u001b[0m\u001b[0m\n\u001b[0;32m      3\u001b[0m \u001b[0mknn\u001b[0m\u001b[1;33m.\u001b[0m\u001b[0mfit\u001b[0m\u001b[1;33m(\u001b[0m\u001b[0mX_train\u001b[0m\u001b[1;33m,\u001b[0m\u001b[0my_train\u001b[0m\u001b[1;33m.\u001b[0m\u001b[0mravel\u001b[0m\u001b[1;33m(\u001b[0m\u001b[1;33m)\u001b[0m\u001b[1;33m)\u001b[0m\u001b[1;33m\u001b[0m\u001b[1;33m\u001b[0m\u001b[0m\n\u001b[0;32m      4\u001b[0m \u001b[1;33m\u001b[0m\u001b[0m\n\u001b[0;32m      5\u001b[0m \u001b[0mget_acc\u001b[0m\u001b[1;33m(\u001b[0m\u001b[0mknn\u001b[0m\u001b[1;33m,\u001b[0m\u001b[0mX_test\u001b[0m\u001b[1;33m,\u001b[0m\u001b[0my_test\u001b[0m\u001b[1;33m.\u001b[0m\u001b[0mravel\u001b[0m\u001b[1;33m(\u001b[0m\u001b[1;33m)\u001b[0m\u001b[1;33m)\u001b[0m\u001b[1;33m\u001b[0m\u001b[1;33m\u001b[0m\u001b[0m\n",
      "\u001b[1;31mNameError\u001b[0m: name 'KNeighborsClassifier' is not defined"
     ]
    }
   ],
   "source": [
    "knn = KNeighborsClassifier(n_neighbors = 13)\n",
    "\n",
    "knn.fit(X_train,y_train.ravel())\n",
    "\n",
    "get_acc(knn,X_test,y_test.ravel())"
   ]
  },
  {
   "cell_type": "code",
   "execution_count": null,
   "metadata": {},
   "outputs": [],
   "source": []
  }
 ],
 "metadata": {
  "kernelspec": {
   "display_name": "Python 3",
   "language": "python",
   "name": "python3"
  },
  "language_info": {
   "codemirror_mode": {
    "name": "ipython",
    "version": 3
   },
   "file_extension": ".py",
   "mimetype": "text/x-python",
   "name": "python",
   "nbconvert_exporter": "python",
   "pygments_lexer": "ipython3",
   "version": "3.8.5"
  }
 },
 "nbformat": 4,
 "nbformat_minor": 4
}
